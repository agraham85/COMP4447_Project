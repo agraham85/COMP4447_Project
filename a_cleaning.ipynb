{
 "cells": [
  {
   "cell_type": "code",
   "execution_count": 113,
   "outputs": [
    {
     "name": "stdout",
     "output_type": "stream",
     "text": [
      "The autoreload extension is already loaded. To reload it, use:\n",
      "  %reload_ext autoreload\n"
     ]
    }
   ],
   "source": [
    "%load_ext autoreload\n",
    "%autoreload 2\n",
    "import pandas as pd\n",
    "import os\n",
    "from cleaning_utils import *\n",
    "import numpy as np"
   ],
   "metadata": {
    "collapsed": false,
    "pycharm": {
     "name": "#%%\n"
    }
   }
  },
  {
   "cell_type": "code",
   "execution_count": 114,
   "metadata": {},
   "outputs": [
    {
     "name": "stderr",
     "output_type": "stream",
     "text": [
      "C:\\Users\\AMGra\\AppData\\Local\\Temp\\ipykernel_9860\\500654137.py:2: DtypeWarning: Columns (5,7,10,11,12,13,14,34,35,36,37,38,39,40,41,42,43,44,45,46) have mixed types. Specify dtype option on import or set low_memory=False.\n",
      "  df = pd.read_csv(os.path.join(cwd, \"MetObjects.txt\"))\n"
     ]
    }
   ],
   "source": [
    "cwd = os.getcwd()\n",
    "df = pd.read_csv(os.path.join(cwd, \"MetObjects.txt\"))\n",
    "\n",
    "andrew_col_list = [i for i in range(2, df.shape[1], 3)]\n",
    "andrew_col_list.insert(0, 0)\n",
    "andrew_df = df.iloc[:, andrew_col_list]\n",
    "andrew_df = andrew_df.astype(str, errors=\"ignore\")\n",
    "\n"
   ]
  },
  {
   "cell_type": "code",
   "execution_count": 115,
   "outputs": [
    {
     "name": "stdout",
     "output_type": "stream",
     "text": [
      "Object Number 635650\n",
      "Artist Role 635650\n",
      "Artist Prefix 635650\n",
      "Artist Display Name 635650\n",
      "Artist Display Bio 635650\n",
      "Artist Suffix 635650\n",
      "Artist Alpha Sort 635650\n",
      "Artist Nationality 635650\n",
      "Artist Begin Date 635650\n",
      "Artist End Date 635650\n",
      "Artist Gender 635650\n",
      "Artist ULAN URL 635650\n",
      "Artist Wikidata URL 635650\n"
     ]
    },
    {
     "data": {
      "text/plain": "  Object Number Artist Role Artist Prefix    Artist Display Name  \\\n0    1979.486.1       Maker                James Barton Longacre   \n1    1980.264.5       Maker                   Christian Gobrecht   \n2      67.265.9         nan           nan                    nan   \n3     67.265.10         nan           nan                    nan   \n4     67.265.11         nan           nan                    nan   \n\n                                  Artist Display Bio Artist Suffix  \\\n0  American, Delaware County, Pennsylvania 1794–1...                 \n1                                          1785–1844                 \n2                                                nan           nan   \n3                                                nan           nan   \n4                                                nan           nan   \n\n        Artist Alpha Sort Artist Nationality Artist Begin Date  \\\n0  Longacre, James Barton           American        1794         \n1     Gobrecht, Christian                           1785         \n2                     nan                nan               nan   \n3                     nan                nan               nan   \n4                     nan                nan               nan   \n\n  Artist End Date Artist Gender                             Artist ULAN URL  \\\n0      1869                 nan  http://vocab.getty.edu/page/ulan/500011409   \n1      1844                 nan  http://vocab.getty.edu/page/ulan/500077295   \n2             nan           nan                                         nan   \n3             nan           nan                                         nan   \n4             nan           nan                                         nan   \n\n                      Artist Wikidata URL  \n0  https://www.wikidata.org/wiki/Q3806459  \n1  https://www.wikidata.org/wiki/Q5109648  \n2                                     nan  \n3                                     nan  \n4                                     nan  ",
      "text/html": "<div>\n<style scoped>\n    .dataframe tbody tr th:only-of-type {\n        vertical-align: middle;\n    }\n\n    .dataframe tbody tr th {\n        vertical-align: top;\n    }\n\n    .dataframe thead th {\n        text-align: right;\n    }\n</style>\n<table border=\"1\" class=\"dataframe\">\n  <thead>\n    <tr style=\"text-align: right;\">\n      <th></th>\n      <th>Object Number</th>\n      <th>Artist Role</th>\n      <th>Artist Prefix</th>\n      <th>Artist Display Name</th>\n      <th>Artist Display Bio</th>\n      <th>Artist Suffix</th>\n      <th>Artist Alpha Sort</th>\n      <th>Artist Nationality</th>\n      <th>Artist Begin Date</th>\n      <th>Artist End Date</th>\n      <th>Artist Gender</th>\n      <th>Artist ULAN URL</th>\n      <th>Artist Wikidata URL</th>\n    </tr>\n  </thead>\n  <tbody>\n    <tr>\n      <th>0</th>\n      <td>1979.486.1</td>\n      <td>Maker</td>\n      <td></td>\n      <td>James Barton Longacre</td>\n      <td>American, Delaware County, Pennsylvania 1794–1...</td>\n      <td></td>\n      <td>Longacre, James Barton</td>\n      <td>American</td>\n      <td>1794</td>\n      <td>1869</td>\n      <td>nan</td>\n      <td>http://vocab.getty.edu/page/ulan/500011409</td>\n      <td>https://www.wikidata.org/wiki/Q3806459</td>\n    </tr>\n    <tr>\n      <th>1</th>\n      <td>1980.264.5</td>\n      <td>Maker</td>\n      <td></td>\n      <td>Christian Gobrecht</td>\n      <td>1785–1844</td>\n      <td></td>\n      <td>Gobrecht, Christian</td>\n      <td></td>\n      <td>1785</td>\n      <td>1844</td>\n      <td>nan</td>\n      <td>http://vocab.getty.edu/page/ulan/500077295</td>\n      <td>https://www.wikidata.org/wiki/Q5109648</td>\n    </tr>\n    <tr>\n      <th>2</th>\n      <td>67.265.9</td>\n      <td>nan</td>\n      <td>nan</td>\n      <td>nan</td>\n      <td>nan</td>\n      <td>nan</td>\n      <td>nan</td>\n      <td>nan</td>\n      <td>nan</td>\n      <td>nan</td>\n      <td>nan</td>\n      <td>nan</td>\n      <td>nan</td>\n    </tr>\n    <tr>\n      <th>3</th>\n      <td>67.265.10</td>\n      <td>nan</td>\n      <td>nan</td>\n      <td>nan</td>\n      <td>nan</td>\n      <td>nan</td>\n      <td>nan</td>\n      <td>nan</td>\n      <td>nan</td>\n      <td>nan</td>\n      <td>nan</td>\n      <td>nan</td>\n      <td>nan</td>\n    </tr>\n    <tr>\n      <th>4</th>\n      <td>67.265.11</td>\n      <td>nan</td>\n      <td>nan</td>\n      <td>nan</td>\n      <td>nan</td>\n      <td>nan</td>\n      <td>nan</td>\n      <td>nan</td>\n      <td>nan</td>\n      <td>nan</td>\n      <td>nan</td>\n      <td>nan</td>\n      <td>nan</td>\n    </tr>\n  </tbody>\n</table>\n</div>"
     },
     "execution_count": 115,
     "metadata": {},
     "output_type": "execute_result"
    }
   ],
   "source": [
    "artist_col_list = list(range(16, 28)) # making list of column index from Q->AB\n",
    "artist_col_list.insert(0, 0) # Adding the first column as index\n",
    "artist_df = df.iloc[: , artist_col_list] #subsets originas dataframe 'df'\n",
    "artist_df = split_rows(artist_df)\n",
    "artist_df.head()"
   ],
   "metadata": {
    "collapsed": false,
    "pycharm": {
     "name": "#%%\n"
    }
   }
  },
  {
   "cell_type": "code",
   "execution_count": 116,
   "outputs": [],
   "source": [
    "andrew_artist_cols = [i for i in range(2, artist_df.shape[1], 3)]\n",
    "andrew_artist_df = artist_df.iloc[:, andrew_artist_cols]"
   ],
   "metadata": {
    "collapsed": false,
    "pycharm": {
     "name": "#%%\n"
    }
   }
  },
  {
   "cell_type": "markdown",
   "source": [
    "Andrew Cleaning"
   ],
   "metadata": {
    "collapsed": false,
    "pycharm": {
     "name": "#%% md\n"
    }
   }
  },
  {
   "cell_type": "code",
   "source": [
    "andrew_df.head(2)\n",
    "andrew_df.info()\n"
   ],
   "metadata": {
    "collapsed": false,
    "pycharm": {
     "name": "#%%\n"
    }
   },
   "execution_count": 117,
   "outputs": [
    {
     "name": "stdout",
     "output_type": "stream",
     "text": [
      "<class 'pandas.core.frame.DataFrame'>\n",
      "RangeIndex: 477804 entries, 0 to 477803\n",
      "Data columns (total 19 columns):\n",
      " #   Column             Non-Null Count   Dtype \n",
      "---  ------             --------------   ----- \n",
      " 0   Object Number      477804 non-null  object\n",
      " 1   Is Timeline Work   477804 non-null  object\n",
      " 2   Gallery Number     477804 non-null  object\n",
      " 3   Object Name        477804 non-null  object\n",
      " 4   Period             477804 non-null  object\n",
      " 5   Portfolio          477804 non-null  object\n",
      " 6   Artist Prefix      477804 non-null  object\n",
      " 7   Artist Suffix      477804 non-null  object\n",
      " 8   Artist Begin Date  477804 non-null  object\n",
      " 9   Artist ULAN URL    477804 non-null  object\n",
      " 10  Object Begin Date  477804 non-null  object\n",
      " 11  Dimensions         477804 non-null  object\n",
      " 12  City               477804 non-null  object\n",
      " 13  Country            477804 non-null  object\n",
      " 14  Locale             477804 non-null  object\n",
      " 15  River              477804 non-null  object\n",
      " 16  Link Resource      477804 non-null  object\n",
      " 17  Repository         477804 non-null  object\n",
      " 18  Tags Wikidata URL  477804 non-null  object\n",
      "dtypes: object(19)\n",
      "memory usage: 69.3+ MB\n"
     ]
    }
   ]
  },
  {
   "cell_type": "code",
   "execution_count": 118,
   "outputs": [],
   "source": [
    "andrew_df['Is Timeline Work'] = andrew_df['Is Timeline Work'].astype(bool)"
   ],
   "metadata": {
    "collapsed": false,
    "pycharm": {
     "name": "#%%\n"
    }
   }
  },
  {
   "cell_type": "code",
   "execution_count": 119,
   "outputs": [
    {
     "data": {
      "text/plain": "array(['nan', 'Edo period', 'Qing dynasty', 'Ming dynasty', 'Ming',\n       'Yuan', 'Southern Song dynasty', 'Song dynasty', 'Yuan dynasty',\n       'Goryeo dynasty', 'Southern Song', 'Dali kingdom', 'Meiji period',\n       'Northern Song', 'Heian period', 'Muromachi', 'Kamakura period',\n       'Shōwa period', 'Nanbokuchō period', 'Republic period',\n       'Tang dynasty', 'Neolithic', 'Western Han dynasty', 'Liao dynasty',\n       'Eastern Zhou dynasty', 'Neolithic period', 'Joseon dynasty',\n       'Western Zhou dynasty', 'Unified Silla', 'Chola period',\n       'Pala period', 'Early period', 'Bronze and Iron Age period',\n       'Middle period', 'Central Javanese period',\n       'Eastern Javanese period', 'Central', 'Singasari period',\n       'Late period', 'Angkor period', 'Sukhothai period',\n       'Thakuri-Malla periods', 'Polonnaruva period', 'post Gupta period',\n       'Thakuri period', 'Late Neolithic period', 'Chiangsaen period',\n       'Ratanakosin period', 'Gupta period', 'Eastern Janvanese period',\n       'Kushan', 'Majapahit period', 'Bronze and Iron Age',\n       'Viet-Han period', 'Early Rajput -Chaurapanchasika style',\n       'Early Rajput-Chaurapanchasika style', 'Sultanate period',\n       'Karnata-Malla period', 'Early Malla period',\n       'Thakuri– Malla periods', 'Mughal', 'Ayudhya period',\n       'Shunga period', 'Mauryan period', 'Mauryan', 'Kushan period',\n       'Sena dynasty', 'Pandyan period', 'Pandya dynasty',\n       'Eastern Ganga dynasty', 'Western Chalukyan period',\n       'Kakatiya period', 'Chandela period', 'pre-Angkor period',\n       'Mon-Dvaravati period', 'Post-Gupta period', 'Hepthalite',\n       'Ikshvaku period', 'Ikshvaku', 'Shahi period', 'Sailendra dynasty',\n       'Indus civilization', 'Licchavi period', 'Pagan period',\n       'Malla period', 'Licchavi–Thakuri periods',\n       'Thakuri–Early Malla periods', 'Thakuri periods', 'Hoysala period',\n       'Nayaka period', 'Solanki period', 'Pala-Sena period',\n       'Divided Kingdoms period', 'Khmer', 'Anuradhapura period',\n       'Kushan dynasty', 'Chalcolithic– Historic period', 'Gupta',\n       'Modern', 'Ayutthaya period', 'Shunga–Kushan period',\n       'Pallava period', 'Arakan period', 'Sailendra style',\n       'Javanese period', 'Pala dynasty', 'Srivijaya period',\n       'Harrapan period', 'Chalukyan period', 'post–Gupta period',\n       'Early Polonnaruva period', 'Khmer-Shrivijaya style', 'Pallava',\n       'Vijayanagar period', 'Thakuri dynasty', 'Muromachi period',\n       'Three Kingdoms period', 'Silla Kingdom', 'Three Kingdoms',\n       'Kaya Federation', 'Unified Silla dynasty',\n       'South and North Kingdoms period', 'Southern Tang dynasty',\n       'Five Dynasties', 'Late Yuan', 'Northern Qi dynasty', 'Edo',\n       'Taishō period', 'Han dynasty', 'Middle Jōmon period',\n       'Momoyama period', 'Northern Song dynasty', 'Tang',\n       'Eastern Han dynasty', 'possibly Eastern Han dynasty', 'Song',\n       'Jin dynasty', 'Northern Wei dynasty', 'Jin', 'Khotan Kingdom',\n       'Bronze Age period', 'Bronze Age', 'mid- to  Ming dynasty',\n       'Probably modern', 'Khotan kingdom', 'Momoyama', 'Sui dynasty',\n       'Eastern Wei dynasty', 'Northern Dynasties', 'Box: Edo period',\n       'Nomad', 'Ming Dynasty', 'Kangxi', 'Late Ming', 'Shang dynasty',\n       'Eastern Jin dynasty', 'Western Jin dynasty', 'Six Dynasties',\n       'Western Han', 'Northern Qi', 'Jin dynasty 1115–1234)',\n       'Late Momoyama', 'Sui', 'Northern Wei period',\n       'possibly Northern Song dynasty', 'Neolithic to Shang dynasty',\n       'Neolithic period--Shang dynasty', 'Shang', 'Zhou dynasty',\n       'pre-Han dynasty', 'Unknown', 'Late Qing dynasty',\n       'After the style of the Zhou dynasty', 'Pre-Columbian period',\n       'Prehistoric', 'before Ming dynasty', 'Warring States period',\n       'Eastern Han', 'Southern Dynasties',\n       'Neolithic period to Ming dynasty', 'Warring States',\n       'Kofun period', 'Warring States– Western Han dynasty',\n       'Qing dyasty', 'Kizil kingdom', 'Northern Wei',\n       'Late Jōmon period', 'Final Jōmon period', 'Yayoi period',\n       'Middle Jomon period', 'Nara period', 'possibly Song dynasty',\n       'Eastern Zhou', 'Meiji', 'Nanbokuchō', 'Visnukundin',\n       'Late Jomon period', 'Kamakura', 'Heian', 'style of Tang dynasty',\n       'Late Edo', 'Yongzheng period', 'MIng dynasty',\n       'Style of Song dynasty', 'Song Dynasty', 'Late Yayoi period',\n       'Early Nara period', 'Neolithic period–Shang dynasty', 'Han',\n       'Xiongnu culture', 'Uyghur kingdom', 'Kizil Kingdom',\n       'Eastern Javanese', 'Proto–classical period',\n       'Protoclassic period', 'Pyu period', 'Proto–classical',\n       'Tribal period', 'Late Jōmon', 'Kofun', 'Hongxian mark and period',\n       'Eastern Jin', 'China', 'Qing', 'Early Ming dynasty',\n       '20th century', 'Qin–Han dynasty', 'Zhou',\n       'mid-Western Zhou dynasty', 'middle Edo period',\n       'Six Dynasties period', 'Northern', 'Xixia dynasty', 'pre-Ming',\n       'Jomon period', 'Asuka period', 'Five Dynasties period',\n       'Middle period–Late period', 'Early period–Late period',\n       'Bronze and lron Age period', 'Middle period– Late period',\n       'Middle–Late period', 'Early– Late period', 'middle Yayoi period',\n       'Batak', 'Wuyue kingdom', 'Western Wei dynasty', 'Mughal period',\n       'Timurid period', 'Middle Chunqiu Era', 'Meiji Period',\n       'Modern period', 'Late Unified Silla dynasty', 'Western Zhou',\n       'Edo perid', 'Thracian period', 'Scythian',\n       'Period of Tibetan Empire', 'Early Qing dynasty',\n       'Indus Civilization', 'Qin dynasty', 'mid-Zhou dynasty',\n       'style of Zhou dynasty', 'Early Zhou dynasty',\n       'Northern and Southern Dynasties', 'Western Wei',\n       'style of the  Tang dynasty', 'style of the Tang dynasty', 'Liang',\n       'Style of Northern Wei dynasty', 'Style of Northern Qi dynasty',\n       'Warring States– Western Han', 'Liao',\n       'Modern forgery in the style of the Six Dynasties',\n       'style of Six Dynasties', 'Sixteen Kingdoms period',\n       'Meiji  period', 'Final Jomon period', 'Tibetan period',\n       'Heisei period', 'Rajput', 'Rajput: Jaipur', 'Rajput: Kota',\n       'Khmer style of the Bayon', 'Nara', 'period of Tibetan rule',\n       'Taishō', 'r Chalukyan period',\n       'In the style of Northern Wei dynasty',\n       'period of Chinese Han occupation',\n       'Gupta style of the 6th century',\n       'attributed to Unified Silla dynasty', 'Contemporary',\n       'Khmer Empire', 'Ly dynasty', 'Eastern Zhou–Western Han dynasty',\n       'Satavahana-Ikshvaku', 'Neolithic–Erlitou period', 'Kusana',\n       'Kandyan period', 'Ly', 'Patola Shahi period',\n       'Shang dynasty–Western Zhou dynasty', 'Edo period \\n1845.',\n       'Edo period \\nKihei.', 'Qing Dynasty', 'Ching Dynasty',\n       'Edo Period', 'Severan', 'Classical', 'Hellenistic',\n       'Mid Imperial', 'Archaic', 'Late Roman', 'Early', 'Early Imperial',\n       'Late Imperial', 'Mid', 'Early to Mid Imperial',\n       'Mid to Late Imperial', 'Imperial', 'Early Byzantine',\n       'Early imperial', 'Late Hellenistic', 'Late Bronze Age',\n       'Cypro-Archaic I', 'Late Corinthian', 'Cypro-Archaic II',\n       'Cypro-Classical I', 'Late Cypriot', 'Cypro-Geometric III',\n       'Cypro-Classical II', 'Early Hellenistic',\n       'Cypro-Archaic II–Cypro-Classical I', 'Cypro-Classical',\n       'Late Cypriot III', 'Iron Age', 'Protocorinthian',\n       'Cypro-Geometric I', 'Cypro-Archaic I–II', 'Cypro-Archaic',\n       'Geometric', 'Late Cypriot IIIB',\n       'Cypro-Geometric III–Cypro-Archaic I', 'Hellenic',\n       'Late Cypriot II', 'Cypro-Archaic–Cypro-Classical',\n       'Cypro-Geometric II', 'Middle Cypriot', 'Late Helladic IIIA',\n       'Late Helladic IIIB', 'Late Helladic III', 'Late Helladic IIIA2',\n       'Late Helladic IIIA1-2', 'Late Cypriot IIIB2',\n       'Middle Cypriot III', 'Early Cypriot III-Middle Cypriot I',\n       'Early Bronze Age', 'Late Cypriot IB', 'Middle Cypriot II',\n       'Middle Cypriot II–III', 'Early Cypriot III–Middle Cypriot I',\n       'Early Cypriot III–Middle Cypriot II', 'Middle Cypriot I-II',\n       'Middle Cypriot I–II', 'Early Cypriot I',\n       'Possibly Late Cypriot I–II', 'Late Helladic IIIA:1',\n       'Late Cypriot I', 'Late Cypriot I-IIIA', 'Late Cypriot I-II',\n       'Middle Bronze Age', 'Early–Middle Bronze Age', 'Early Cypriot',\n       'Late Cypriot IIIA', 'Early Cypriot III', 'Early Cypriot IIIA',\n       'Early–Middle Cypriot', 'Middle Cypriot I',\n       'Early Cypriot III-Middle Bronze Age', 'Late Cypriot I–II',\n       'Late Cypriot IIIB–Cypro-Geometric I', 'Early Iron Age',\n       'Transitional', 'Middle Corinthian', 'Early Cypro-Archaic II',\n       'Late Cypro-Classical II–Early Hellenistic',\n       'Late Cypro-Archaic II', 'Cypro-Classical II–Early Hellenistic',\n       'Late Hellenistic–Early Roman', 'Roman',\n       'Middle Cypriot III–Late Cypriot I', 'Late Archaic',\n       'Cypro-Geometric II–III',\n       'Late Cypro-Classical I–Early Cypro-Classical I',\n       'Late Classical–Early Hellenistic',\n       'Late Cypro-Classical I–Cypro-Classical II', 'Late Classical',\n       'Late Archaic–Early Classical', 'Late Classical–Hellenstic',\n       'Late Classical–Hellenistic', 'Mid-Imperial', 'Early Geometric',\n       'Early Roman', 'Archiac', 'Archaic–Classical',\n       'Late Cypro-Archaic–Early Cypro-Classical',\n       'Late Archaic–Classical', 'Late Republic',\n       'Late Cypro-Geometric I–Early Cypro-Geometric II',\n       'Geometric-Classical', 'Archaic-Classical',\n       'Possibly Late Cypriot II', 'Possibly Archaic',\n       'Archaic- Classical', 'Hellenistic-Imperial', 'Classical-Roman',\n       'Late Republican–Early Imperial', 'Mid–Late Imperial',\n       'Early Archaic', '26th–30th Dynasty', 'Late Dynastic',\n       'Late Dynastic–Hellenistic', 'New Kingdom',\n       'Third Intermediate Period', 'Early Third Intermediate Period',\n       'Late Third Intermediate Period',\n       'Third Intermediate Period–Late Dynastic', '25th Dynasty',\n       'Third Intermediate–Late Dynastic', 'Mid-18th Dynasty',\n       'Late Cypro-Archaic I', 'Late Bronze', 'Late Cypriot II–III',\n       'Late Bronze Age III', 'Geometric–Archaic',\n       'Late Classical-Hellenistic', 'Late  Classical–Hellenistic',\n       'Dynasty 18', 'Probably Late Cypriot IIIA', 'Late Iron Age',\n       'Late Dynastic-Hellenistic', 'Late Helladic IIIA2 -IIIB',\n       'Late Helladic IIIA1-IIIA2', 'Orientalizing', 'Early Corinthian',\n       'Late Corinthian I', 'Late Republican', 'Mid  to Late Imperial',\n       'Eraly Imperial', 'Medieval', 'Roman Period', 'Hadrianic',\n       'Migration', 'Early Medieval', 'Late Geometric-Archaic',\n       'Probably Classical', 'Late Orientalizing',\n       'Orientalizing/ Archaic', 'Orientalizing- Archaic', 'Arcahic',\n       'Late Classical-Early Hellenstic', 'Villanovan', 'Late Geometric',\n       'Geomtric-Archaic', 'Mid to  Bronze Age', 'Mid to Late Bronze Age',\n       'Late Antique', 'Republic', 'Villanovian/Orientalizing',\n       'Geometric-Archaic', 'Villanovian', 'Late Villanovian',\n       'Early Orientalizing', 'Augustan',\n       'Early Minoan II-Late Minoan III',\n       'Early Minoan III-Late Minoan I', 'Early Minoan II-III',\n       'Late Minoan I', 'Early Minoan II-Late Minoan I',\n       'Early Minoan II', 'Early Minoan IIB', 'Middle Minoan IIIA-B',\n       'Middle Minoan III', 'Middle Minoan II', 'Late Minoan III',\n       'Late Minoan IIIB', 'Early Minoan III',\n       'Middle Minoan III-Late Minoan I',\n       'Early Minoan III-Middle Minoan IA', 'Late Minoan IIIA',\n       'Late Helladic I', 'Late Minoan II–IIIA', 'Antonine', 'Trajanic',\n       'Middle Minoan IA', 'Middle Minoan I', 'Middle Minoan IIIA',\n       'Middle Minoan IB', 'Middle Minoan II–III', 'Middle Minoan IIIB',\n       'Late Cycladic I', 'Late Neolithic', 'Middle Minoan IIB-IIIA',\n       'Late Minoan II', 'Late Minoan IB', 'Proto-Attic',\n       'Hellenistic period', 'Late Archaic-Early Classical', 'Flavian',\n       'Late Trajanic', 'Late Minoan IA', 'Late Minoan IIIA2',\n       'Late Minoan I–II', 'Laste Imperial', 'Middle',\n       'Late Archaic-Classical', 'Geometruc-Archaic', 'Punic',\n       'Middle -Late Corinthian', 'Helladic', 'Early Helladic III',\n       'Early Helladic', 'Late Classical– Early Hellenistic',\n       'Early Protocorinthian', 'Late Minoan IB–II',\n       'Late Geometric–Early Protocorinthian', 'Middle Minoan I–II',\n       'Middle Minoan IIB', 'Middle Helladic I',\n       'Early–Middle Corinthian', 'Early Minoan III–Middle Minoan IA',\n       'Early Minoan III-Middle Minoan I', 'Middle Minoan II-III',\n       'Middle Minoan III–Late Minoan I', 'Early Minoan II–III',\n       'Middle Minoan I-II', 'Early Minoan III-Middle Minoan II',\n       'Middle Minoan III–Late Minoan IA', 'Late Minoan I-II',\n       'Late Minoan IIIA-B', 'Middle Minoan II–IIIA',\n       'Late Helladic IIIC', 'Late Minoan II–III',\n       'Ealy Minoan III-Middle Bronze Age',\n       'Middle Minoan I-Late Minoan I', 'Early MInoan II–III',\n       'Late Minoan', 'Early Minoan II–Middle Minoan I',\n       'Early Minoan II-Middle Minoan I', 'Early Helladic II', 'Italic',\n       'Late Helladic IIIA-B', 'Late Helladic IIIB1',\n       'Mid-Imperial period', 'Late imperial', 'Middle Neolithic',\n       'Middle Helladic', 'Archaic-Early Classical', 'Early Cycladic II',\n       'Early Cycladic I', 'Probably Middle Bronze Age',\n       'Early Classical', 'Early Cycladic I–II', 'Republican',\n       'Late Early Cycladic I–Early Cycladic II', 'Early Antonine',\n       'Chalcolithic', 'Late Minoan IB–IIA', 'Attic', 'Ptolemaic',\n       'Final Neolithic', 'Latter part of the Early Bronze Age',\n       'Archaic - Classical', 'Middle Helladic III', 'Late Hadrianic',\n       'Early Cycladic III–Middle Cycladic I', 'Sub-geometric',\n       'Early Bronze III–Middle Bronze I', 'Late Severan',\n       'Archaic/Classical', 'Archaic/ Early Classical', 'Neo-Assyrian',\n       'Iron Age I-II', 'Late Cypriot III-Cypro-Geometric III', 'Mitanni',\n       'Kassite', 'Old Syrian', 'Neo-Assyrian / Neo-Babylonian',\n       'Akkadian', 'Early-Middle Gawra', 'Late Uruk–Jemdet Nasr',\n       'Gawra XIII-XI', 'Late Cypriot IIB-III',\n       'Late Bronze Age - Early Iron Age', 'Iron Age II', 'Sasanian',\n       'Neo-Babylonian', 'Achaemenid', 'Parthian', 'Graeco-Roman',\n       'Seleucid', 'Old Babylonian', 'Ur III', 'Neo-Sumerian',\n       'Neo-Hittite', 'Hittite Middle Kingdom–Hittite Empire', 'Halaf',\n       'Middle Bronze Age–Old Assyrian Trading Colony', 'Jemdet Nasr',\n       'Late Ubaid–Middle Gawra', 'Hittite Empire', 'Old Elamite',\n       'Late Uruk', 'Late Ubaid-Mid Gawra', 'Ubaid–Late Uruk–Jemdet Nasr',\n       'Chalcolithic–Early Bronze Age', 'Sasanian– Islamic',\n       'Middle Assyrian', 'Xiongnu', 'Dynasty 12', 'Dynasty 15-17',\n       'Samarra', 'Middle Minoan–Late Minoan', 'Post-Akkadian',\n       'Iron Age III', 'Nabataean', 'Isin-Larsa– Old Babylonian',\n       'Parthian–Sasanian', 'Early Dynastic II', 'Iron Age II-III',\n       'Early Dynastic IIIa', 'Islamic', 'Middle–Late Bronze Age',\n       'Middle Bronze Age II', 'Iron Age I', 'Parthian– Sasanian',\n       'Seleucid– Parthian', 'Byzantine', 'Sung Dynasty',\n       'Chalcolithic-Early Bronze Age', 'Early Dynastic I',\n       'Early Dynastic I-II', 'Isin-Larsa', 'Early Dynastic',\n       'Late Ubaid-Middle Gawra', 'Transitional Chalcolithic',\n       'Early Dynastic III', 'Middle Elamite', 'Late Period',\n       'Neo-Elamite', 'Late Middle', 'Middle to  Neo-Elamite',\n       'Proto-Elamite', 'Old Babylonian– Kassite', 'Mature Harappan',\n       'Gandhara', 'Neo-Babylonian–Achaemenid', 'Ubaid',\n       'Isin-Larsa–Old Babylonian', 'Iron Age III-Parthian',\n       'Middle Uruk', 'Natufian', 'Early Dynastic IIIb',\n       'Early Bronze Age III', 'MIddle Bronze Age', 'Early Harappan',\n       'Early Dynastic II-IIIa', 'Early Dynastic II-III',\n       'Ur III–Isin-Larsa', 'Ubaid-Early Gawra', 'Iron Age I/II',\n       'Early Bronze Age II', 'Old Assyrian Trading Colony– Old Hittite',\n       'Early Bronze Age I', 'Uruk', 'Middle–Late Uruk',\n       'Ubaid–Early Uruk', 'Ubaid-Uruk', 'Late Chalcolithic',\n       'Middle Chalcolithic', 'Early–Middle Chalcolithic',\n       'Early Bronze Age II-III', 'Late Bronze Age - Iron Age I',\n       'Hittite Old Kingdom', 'Achaemenid-Seleucid',\n       'Jemdet Nasr–Early Dynastic I', 'Early Bronze Age IA',\n       'Ghassulian', 'Iron Age III-II', 'Achaemenid– Seleucid',\n       'Middle Kingdom', 'Kushano-Sasanian', 'Neolithic–Chalcolithic',\n       'Ubaid-Middle Gawra', 'Akkadian–Ur III', 'Second Dynasty of Isin',\n       'Ninevite V', 'Halaf–Ubaid', 'Old Kingdom',\n       'First Intermediate Period', 'Dynasty 17-18',\n       'Middle Bronze Age–Iron Age',\n       'First Intermediate Period– Middle Kingdom', 'Graeco-Bactrian',\n       'Akkadian-Ur III', 'North Syrian', 'Old Anatolian',\n       'Late Middle Kingdom', 'Late Period–Ptolemaic Period',\n       'Late Middle Kingdom–Second Intermediate Period',\n       'Third Intermediate Period–Late Period', 'Early Ptolemaic Period',\n       'Ptolemaic Period', 'New Kingdom–Third Intermediate Period',\n       'Saite Period–Late Period',\n       'Second Intermediate Period– Dynasty 18',\n       'Third Intermediate Period–Ptolemaic Period',\n       'Second Intermediate Period',\n       'Middle Kingdom–Second Intermediate Period',\n       'Early Dynastic Period', 'Late New Kingdom',\n       'Late New Kingdom– Third Intermediate Period',\n       'Probably very end of the Old Kingdom', 'Mid-Saite Period',\n       'Late New Kingdom–Early Third Intermediate Period', 'Meroitic',\n       'Persian Period', 'Early Middle Kingdom', 'Saite Period',\n       'Gnathian', 'Cypro-Geometric', '1.0', 'Native American',\n       'Pre-Columbian', 'Late Postclassic', 'Probably  postclassic',\n       'Late Intermediate', 'Ancient Rome', 'ancient', 'classic Maya',\n       'Postclassic Period', 'Late Post classic',\n       'Pre-Columbian: Gallinazo phase',\n       'Pre-Columbian: Lambayeque Valley', 'Pre-Columbian: Moche phase',\n       'Classic Period', 'Late Post Classic period', 'Post Classic',\n       'Pre-Columbian Inca-Chimu Phase', 'Tokugawa',\n       'Early Tokugawa period', 'Late Moche', 'Yotoco period',\n       'Qing dyansty', 'Period VI', 'Late postclassic', 'Moche phase',\n       'Old Kingdom–First Intermediate Period', 'Predynastic',\n       'Middle Kingdom–Early New Kingdom', \"'Late Period\",\n       'Second Intermediate Period–Early New Kingdom',\n       'Late Middle Kingdom -  Second Intermediate Period',\n       'Middle Kingdom– New Kingdom', 'Late Second Intermediate Period',\n       'Middle Kingdom– Second Intermediate Period',\n       'Late Old Kingdom–First Intermediate Period',\n       'Late Second Intermediate Period–Early New Kingdom',\n       'Original: Old Kingdom',\n       'First Intermediate Period–Middle Kingdom', 'Modern;',\n       'Twentieth Century;', 'Original: New Kingdom', 'Early New Kingdom',\n       'Ramesside Period', 'Middle Kingdom–New Kingdom',\n       'Second Intermediate Period– New Kingdom',\n       'Late Middle Kingdom–Early New Kingdom',\n       'Ptolemaic Period–Roman Period', 'Naqada III–Dynasty 1',\n       'Third Intermeidate–Late Period',\n       'New Kingdom – Third Intermediate Period',\n       'New Kingdom–Ptolemaic Period',\n       'Late New Kingdom to  Third Intermediate Period',\n       'Second Intermediate Period–New Kingdom',\n       'Early Dynastic Period–New Kingdom',\n       'Ptolemaic–Early Roman Period', 'Neolithic Period',\n       'Predynastic Period', 'Second Intermdiate Period',\n       'Neolithic–Predynastic Period', 'Late Period-Ptolemaic Period',\n       'Late Old Kingdom', 'Third Intermediate Period–Saite Period',\n       'First Persian Period', 'Late Period and Modern',\n       'Kushite Period–Late Period', 'Late Period– Ptolemaic Period',\n       'Ptolemaic‒Roman Period', 'Ptolemaic Period to Roman Period',\n       'Macedonian', 'Third Intermediate Period–Kushite Period',\n       'Middle Kingdom–Third Intermediate Period',\n       'Middle Kingdom-Second Intermediate Period',\n       'Late Middle Kingdom–New Kingdom',\n       'New Kingdom-Third Intermediate Period',\n       'Neolithic Period–Predynastic Period', 'Late Naqada II',\n       'Late Naqada II–possibly  Naqada III',\n       'Late Naqada I–Early Naqada II', 'Late Naqada l–Early Naqada II',\n       'Naqada IIc–d1', 'Naqada II', 'Late Naqada III',\n       'Late Predynastic Period', 'Late Period–Roman Period',\n       'Meroitic Period', 'C-Group', 'Original New Kingdom',\n       'Kushite Period–Saite Period',\n       'Third Intermediate Period– Dynasty 26',\n       'Dynasty 30– Ptolemaic Period',\n       'Third Intermediate Period – Late Period', 'Ramesside–Late Period',\n       'Late Period – Roman Period', 'Early Dynastic Period–Old Kingdom',\n       'Ptolemaic–Roman Period', 'Late Period–Early Ptolemaic Period',\n       'Naqada III', 'Late Old Kingdom–Early Middle Kingdom',\n       'Macedonian–Ptolemaic Period',\n       'Third Intermediate Period–Islamic Period', 'Islamic Period',\n       'Byzantine–Islamic Period', 'Roman Period and r',\n       'Roman Period and Islamic Period', 'Middle Paleolithic',\n       'Upper Paleolithic Period', 'Middle Paleolithic Period',\n       'Lower Paleolithic Period', 'Early Middle Paleolithic',\n       'Ptolemaic Period -  Roman Period', 'Late Period–Ptolemaic',\n       'Probably Third Intermediate Period', 'Coptic',\n       'Dynasty 30–Ptolemaic Period', 'New Kingdom – Late Period',\n       'New Kingdom–Late Period', 'Late Ramesside–Saite Period',\n       'Middle Kingdom–Early New Kingdom; reused Third Intermediate Period',\n       'Late New Kingdom–Ptolemaic Period', 'Napatan Period',\n       'Probably Late Period', 'Late Period to  Ptolemaic Period',\n       'Ramesside–Third Intermediate Period', 'Ramesside',\n       'Early New Kingdom–Ramesside Period', 'Uncertain', 'New KIngdom',\n       'Middle–New Kingdom', 'Middle-New Kingdom',\n       'Late Second Intermediate Period– New Kingdom',\n       'Late Old Kingdom-First Intermediate Period',\n       'Middle Kingdom–Sedcond Intermediate Period',\n       'Middle Kingdom to Second Intermediate Period',\n       'Old Syrian Period', 'Twentieth Century; New Kingdom',\n       'Ptolemaic–Byzantine Period', 'Late Period– Ptolemaic',\n       'Late Dynastic - Ptolemaic Period', 'Original: New Kingom',\n       'First Intermediate Period–Early Middle Kingdom',\n       'Third Intermediate Period - Late Period',\n       'Late Period to Ptolemaic Period', 'Late Period: Persian',\n       'Third Intermediate Period–Kushite', 'A-Group', 'Ptolemaic–Roman',\n       'Coptic Period', 'Predynastic–Early Dynastic',\n       'Probably Ptolemaic Period',\n       'Probably Neolithic–Predynastic Period', 'Probably New Kingdom',\n       'Late Ptolemaic Period– Roman Period',\n       'New Kingdom to 3rd Intermediate Period', 'Byzantine Period',\n       'New Kingdom to Late Period', 'Persian Period to Late Period',\n       'Late Period–Ptolemaic  Period', 'Late Period – Ptolemaic Period',\n       'Ptolemaic  Period', 'Predynastic Period–Old Kingdom',\n       'Early Dynastic Period–Early Old Kingdom',\n       'Old Kingdom–Middle Kingdom', 'Predynastic Period-Dynasty I',\n       'Date being researched', 'Old Kingdom–New Kingdom',\n       'Dates being researched', 'Late New Kingdom - Late Period',\n       'Late Ptolemaic', 'Late New Kingdom – Third Intermediate Period',\n       'Late Roman Period', 'Second-Third Intermediate Period',\n       'First Millennium B.C.', 'Persian-Ptolemaic Period',\n       'Late Period to Roman Period', 'Late Perod–Ptolemaic Period',\n       'Paleolithic to Neolithic',\n       'Late New Kingdom–Third Intermediate Period', 'PreColumbian',\n       'Singasari kingdom', 'Classical period', 'Chams kingdoms',\n       'Ptolemaic Period--Roman Period', 'Showa period', 'Ottoman period',\n       'Moghul period', 'Taisho', 'Late Archaic/Classical',\n       'Archaic /Classical', 'Late Archaic/Early Classical',\n       'Late Archaic /Early Classical', 'Archaic /Early Classical',\n       'Archaic/Early Classical', 'Late Archaic/ Early Classical',\n       'Kandyian period', 'Hellenistic and Imperial', 'Pala  period',\n       'Late Meiji', 'Sakya Order', 'East Javanese period',\n       'Classical/Late Classical', 'Ramesside/Third Intermediate Period',\n       'Genroku period', 'Kamakura Period', 'Corinthian',\n       'Archaic Classical', 'Archaic/ Classical', 'Middle Byzantine',\n       'Greek', 'Pahari period', 'Southern Ming dynasty',\n       'Probably Edo period', 'Shah period', 'Reiwa period',\n       'Khmer style', 'Yuan Dynasty', 'Reiwa', 'Pala-Sena dynasty',\n       'Taishō era', 'Thanjavur School', 'Muromachi 1392–1573)', 'Tran',\n       'Tran Dynasty', 'Early Cypriot III–Middle Cypriot'], dtype=object)"
     },
     "execution_count": 119,
     "metadata": {},
     "output_type": "execute_result"
    }
   ],
   "source": [
    "#Period\n",
    "andrew_df[\"Period\"] = andrew_df[\"Period\"].replace(to_replace = '\\(\\?\\)|\\?', value = '', regex = True)\n",
    "andrew_df[\"Period\"] = andrew_df[\"Period\"].replace(to_replace = '\\(.*', value = '', regex = True)\n",
    "andrew_df[\"Period\"] = andrew_df[\"Period\"].replace(to_replace = 'late|early|probably', value = '', regex = True)\n",
    "andrew_df[\"Period\"] = andrew_df[\"Period\"].replace(to_replace = '\\sor.*', value = '', regex = True)\n",
    "andrew_df[\"Period\"] = andrew_df[\"Period\"].replace(to_replace = ',.*', value = '', regex = True)\n",
    "andrew_df[\"Period\"] = andrew_df[\"Period\"].str.strip()\n",
    "andrew_df[~andrew_df[\"Period\"].str.contains(\"\\(\\?\\)\", regex=True)][\"Period\"].unique()"
   ],
   "metadata": {
    "collapsed": false,
    "pycharm": {
     "name": "#%%\n"
    }
   }
  },
  {
   "cell_type": "code",
   "execution_count": 120,
   "outputs": [],
   "source": [
    "#Portfolio\n",
    "andrew_df[\"Portfolio\"] = andrew_df[\"Portfolio\"].replace(to_replace = '\\\\r\\\\n', value = '', regex = True)\n",
    "andrew_df = andrew_df.replace(r'^\\s*$', np.nan, regex=True)\n",
    "\n",
    "#andrew_df[~andrew_df[\"Portfolio\"].str.contains(\"\\(\\?\\)\", regex=True)][\"Portfolio\"].unique()"
   ],
   "metadata": {
    "collapsed": false,
    "pycharm": {
     "name": "#%%\n"
    }
   }
  },
  {
   "cell_type": "code",
   "execution_count": 121,
   "outputs": [],
   "source": [
    "#Object Begin Date\n",
    "andrew_df['Object Begin Date']= pd.to_numeric(andrew_df['Object Begin Date'].copy())\n",
    "andrew_df['Object Begin Date'].mask(andrew_df['Object Begin Date'] == 5000, -5000, inplace = True)\n"
   ],
   "metadata": {
    "collapsed": false,
    "pycharm": {
     "name": "#%%\n"
    }
   }
  },
  {
   "cell_type": "code",
   "execution_count": 122,
   "outputs": [],
   "source": [
    "#Dimensions\n",
    "andrew_df[\"Dimensions\"] = andrew_df[\"Dimensions\"].replace(to_replace = '\\\\r|\\\\n|\\\\t', value = '', regex = True)"
   ],
   "metadata": {
    "collapsed": false,
    "pycharm": {
     "name": "#%%\n"
    }
   }
  },
  {
   "cell_type": "code",
   "execution_count": 123,
   "outputs": [
    {
     "data": {
      "text/plain": "array(['Boston|Philadelphia', 'Boston|Charlestown', 'New York|Paris',\n       'Hartford|New York', 'Barnstable|Bristol', 'Dordrecht|Amsterdam',\n       'Mantua|New Geneva', 'East Cambridge|Sandwich',\n       'Cincinnati|Trenton', 'Dedham|Medfield', 'Philadelphia|Middletown',\n       'Newport|Middletown', 'Branford|Saybrook',\n       'Philadelphia|Baltimore', 'New Lebanon|Watervliet', 'Kingston|',\n       'Watervliet|New Lebanon', 'Boston|Salem', 'Guilford|Saybrook',\n       'Boston|Newburyport', 'Philadelphia|Greensburg',\n       'Chambersburg|Waynesboro', 'Cambridge|Boston',\n       'Exeter|South Kingstown', 'New York|Albany',\n       'Baltimore|Philadelphia', 'New York|Limoges', 'Atlanta|Limoges',\n       'Fayetteville|Middletown', 'Wakefield|Gardner',\n       'New York|White Mills', 'Coventry|Keene', 'Louisville|Zanesville',\n       'Millville|Millville', 'Tarentum|Pittsburgh', 'Norfolk|Portsmouth',\n       'Lanesborough|Springfield', 'Meriden|New York',\n       'Manheim|Elizabeth', 'Philadelphia|New York', 'Kingston|Albany',\n       'Boston|Worcester', 'Sandwich|East Cambridge',\n       'High Falls|High Falls', 'Boston|Newport',\n       'Jersey City|Pittsburgh', 'Stoke-on-Trent|Stoke-on-Trent',\n       'Newport|Philadelphia', 'Stepney|Philadelphia',\n       'Newport|Providence', 'Albany|Kingston', 'Hartford|Baltimore',\n       'Charlestown|Boston', 'Alexandria|Washington DC',\n       'Philadelphia|Stepney', 'Boston|Cranston|Providence',\n       'Kingston|New York', 'Middletown|Wethersfeild',\n       'Boston|East Cambridge', 'Goffstown|Bedford',\n       'New York|Yalesville', 'Elizabeth|Manheim', 'Mantua|Zanesville',\n       'Philadelphia|Pittsburgh', 'Albany|New York', 'Wheeling|Sandwich',\n       'Salem|Boston', 'Watervliet|Albany', 'Kuba|',\n       'Philadelphia|Pawtucket', 'Portland|Pittsburgh',\n       'Cincinnati|Limoges', 'New York|Ahmedabad',\n       'New York|New Rochelle', 'Cos Cob|Rye', 'New York|Philadelphia',\n       'Oshkosh|Toledo', 'New York|North Attleboro',\n       'East Hampton|Westhampton', 'Bronx|Metuchen', 'Boston|Brighton',\n       'Columbus|Marblehead', 'the Bronx|Brooklyn',\n       'Metuchen|New York|the Bronx', 'the Bronx|Metuchen',\n       'Metuchen|New York|Menlo Park', 'Menlo Park|New York|Metuchen',\n       'Cincinnati|New York', 'Brooklyn|the Bronx',\n       'Cincinnati|Providence', 'Bergenfield|Evanston|Park Ridge',\n       'Metuchen|the Bronx', 'Seki|Kyoto|Tokyo', 'Naples|Solingen',\n       'Landshut|Augsburg', 'Greenwich|New York', 'Augsburg|',\n       'Innsbruck|', 'Greenwich|', 'London|', 'Dresden|', 'Milan|',\n       'Matanzas|Havana', 'Charleston|Charleston', 'Dresden|Toledo',\n       'Dallas|Tokyo', 'Springfield|New York', 'New Haven|New York',\n       'Brescia|Milan', 'Cieszyn| Český Těšin', 'Landshut|',\n       'Milan|Brescia', 'Nuremberg|Innsbruck', 'Brescia|Augsburg',\n       'Milan|Eugui', 'Boston|', 'Paris|London', 'London|Birmingham',\n       'Antwerp|Hall', 'St. Augustine|Havana', 'Concord|Boston',\n       'St. Augustine|St. Augustine', 'Birmingham|London',\n       'Jaipur|Lucknow', 'Possibly Bandung|', 'Delhi|', 'Mantua| Milan',\n       'Klausen|Klausen', 'Venice|Munich', 'Cieszyn|Český Těšin',\n       'Valencia| Toledo| Madrid', 'London|Solingen', 'Greenwich|London',\n       'Rome|Rome', 'Kandahar|', 'Cocha|', 'Pekalongan|', 'Ila Orangun|',\n       'Bougouni|', 'Bondoukou|', 'Jaun|', 'Akpa|', 'Ogbomosho|',\n       'Mindimbit|', 'Sauwa|', 'Gadio|', 'Erma|', 'Momogo|', 'Nissan|',\n       'Ambisu|', 'Kriambit|', 'Kauwatyi|', 'Ilobu, Erin|', 'Simar|',\n       'Owerri, Okobo|', 'Ibadan|', 'Iseyin|', 'Itelinu|', 'Agwa|',\n       'Marienberg|', 'Ronkong|', 'Galumpang|', 'London|Edinburgh',\n       'London|Washington D.C.', 'London|New York', 'New York|London',\n       'Paris|Leipzig', 'Paris|Munich', 'Berlin|New York',\n       'Leipzig|Vienna', 'Düsseldorf, 1901|', 'Toronto|London|New York',\n       'Paris|New York', 'New York|Grand Rapids', 'Chicago|New York',\n       'Paris|Berlin|Liège', 'Vienna|Berlin', 'Toronto|Sydney|London',\n       'Boston|New York', 'Edinburgh|London', 'Sarrebourg|Paris',\n       'Troy|Springfield', 'Edinburgh|Glasgow|New York',\n       'St. Petersburg|Moscow', 'Rome|Florence',\n       'Leipzig|Berlin|Stuttgart', 'Paris|Marseilles',\n       'London|Paris|New York', 'New York|Chicago',\n       'Dresden|London|Leipzig', 'Leipzig|Dresden', 'Paris|Augsburg',\n       'London|New York|Glasgow', 'Plaintsville|Hartford', 'Venice|Paris',\n       'New York|Paris|London', 'Udine|Paris',\n       'Oneida|New York|Rochester', 'Hamburg|London|Paris',\n       'London|Philadelphia', 'Amsterdam|Paris', 'Philadelphia|Hartford',\n       'New York|New York', 'New York|Boston', 'Boston|Cambridge',\n       'Glasgow|London', 'London|Mackbridge',\n       'Paris|London|Melbourne|New York', 'London|Paris|Melbourne',\n       'London|Belfast', 'New York|London|Paris', 'London|Paris',\n       'Paris|Lyon', 'Rome|Venice', 'Detroit|Chicago', 'Lowville|Boston',\n       'Paris|The Hague', 'Paris|Amsterdam', 'Boston|London|New York',\n       'Walton|London', 'Oxford|Cambridge|London', 'Orleans|Nuremberg',\n       'Boston|London', 'Vienna|Leipzig', 'Philadelphia|London',\n       'London|Boston', 'Stuttgart|Leipzig', 'Berlin|Vienna',\n       'Rouen|Paris',\n       'II) Paris: Jte. Bourmancé|I) Paris: Rittner & Goupil 1837',\n       'Munich|Esslingen', 'Leipzig|Dessau', 'Ravenna|Bologna',\n       'Manchester|London', 'Paris|Nancy', 'Milan|Rome', 'Nancy|Paris',\n       'Paris|Strasbourg', 'Ulster|London', 'London|St. Petersburg',\n       'Paris|Venice', 'Detroit|Cleveland', 'Belfast|London|New York',\n       'Glasgow|London|New York', 'New York|Edinburgh|London',\n       'Mannheim|London|Amsterdam|The Hague', 'Florence|',\n       'Vicenza|Venice', 'Rome|', 'Mantua|', 'Venice|Padua',\n       'Madrid|Alcala', 'Strasbourg|Paris', 'Dublin|London',\n       'Paris|Karlsruhe|St. Petersburg', 'London|Leipzig|Dresden',\n       'Venice|Rome', 'Moscow|St. Petersburg', 'Yarkand|', 'Mumbai|',\n       'Bukhara, Samarqand|', 'Bukhara|', 'Manises, Valencia|Kus',\n       'Kashan|Natanz', 'Qazvin|', 'Kashmir|', 'Istanbul|', 'Lucknow|',\n       'Erment|', 'Khursan|', 'Isfahan|', 'Amul, Hamadan|', 'Amul|',\n       'Izmir|', 'Burhanpur|', 'Basra|Rayy', 'Samarra| Takrit',\n       'Basra|near Susa', 'Nishapur|Nishapur', 'Nishapur|Nishapur|',\n       'Nishapur|Samarqand', 'Nishapur| Samarqand', 'Jovain|Nishapur',\n       'Surat|', 'Madurai|', 'Gulbarga|', 'Bursa|', 'Basra|Samarra',\n       'Nishapur|', 'Kirman|', 'Alcaraz|', 'Herat|', 'Bukhara|Herat',\n       'Raqqa|', 'Takrit| Baghdad', 'Isfahan|Herat', 'Bawit|',\n       'Saqqara|Mitrahina', 'Bijapur|', 'Nishapur|Bukhara',\n       'Nishapur|al-Muhammadiyya', 'Nishapur|al-Muḥammadiyya',\n       'Nishapur|Bastam', 'Nishapur|Jurjan', 'Nishapur|Madan....',\n       'Nishapur|al-Shash', 'Nishapur|Madinat Balkh', 'Nishapur|Amul',\n       'Nishapur|Astar Abad', 'Nishapur|al-Muhammadiyyeh',\n       'Nishapur|al-Muḥmmadīyya', 'Nishapur|Arrijan',\n       'Nishapur|Astar-Abad', 'Nishapur|Arrajan', 'Nishapur|Astar-abd',\n       'Nishapur|Qumis', 'Nishapur|Marv', 'Nishapur|Jundi Shapur',\n       'Nishapur|Mashhad', 'Nishapur| Nishapur', 'Nishapur|Balkh',\n       'Nishapur|Wasit', 'Nishapur|Gunabad', 'Nishapur|Zaranj',\n       'Nishapur|Jay', 'Nishapur|Herat', 'Nishapur|al-Kaffan',\n       'Nishapur|A-Rayy', 'Nishapur|Balad-i Tus', 'Nishapur|al-Rafiqa',\n       'Nishapur|Qazween', 'Nishapur|Arminya', 'Nishapur|Abar shahr',\n       'Nishapur|Sinjar', 'Nishapur|al-Muhammadiyeh', 'Seville|',\n       'Aragon|Constantinople', 'Paris|', 'Venice|', 'Constantinople|',\n       'Bourges|', 'Palermo|', 'Lucca|', 'Antioch|', 'Dinant|',\n       'Maastricht|', 'Braine|', 'Nottingham|', 'Gelderland|', 'Cologne|',\n       'Trie|', 'Saragossa|', 'Rostock|', 'Markneukirchen|', 'Magdeburg|',\n       'Dedougou|', 'Mindanao|', 'Lluchmajor, Mallorca|', 'London|Oxford',\n       'Edinburgh|Glasgow', 'Kangra|', 'St. Petersburg|New York',\n       'Paris|Paris', 'Ahmedabad|New York', 'University City|Syracuse',\n       'Firenze|Pisa', 'Paris|Versailles', 'Trenton|East Liverpool',\n       'Los Angeles|', 'Maine|New York'], dtype=object)"
     },
     "execution_count": 123,
     "metadata": {},
     "output_type": "execute_result"
    }
   ],
   "source": [
    "#City\n",
    "andrew_df[\"City\"] = andrew_df[\"City\"].replace(to_replace = '\\(\\?\\)|\\?', value = '', regex = True)\n",
    "andrew_df[\"City\"] = andrew_df[\"City\"].replace(to_replace = '\\(.*', value = '', regex = True)\n",
    "andrew_df[\"City\"] = andrew_df[\"City\"].replace(to_replace = 'maybe|probably|possibly', value = '', regex = True)\n",
    "andrew_df[\"City\"] = andrew_df[\"City\"].replace(to_replace = '\\sor\\s.*', value = '|', regex = True)\n",
    "andrew_df[\"City\"] = andrew_df[\"City\"].replace(to_replace = '\\sor.*', value = '|', regex = True)\n",
    "# andrew_df[\"Period\"] = andrew_df[\"Period\"].replace(to_replace = ',.*', value = '', regex = True)\n",
    "andrew_df[\"City\"] = andrew_df[\"City\"].str.strip()\n",
    "andrew_df[andrew_df[\"City\"].str.contains(\"\\|\", regex=True)][\"City\"].unique()\n",
    "#andrew_df.groupby('City').nunique()"
   ],
   "metadata": {
    "collapsed": false,
    "pycharm": {
     "name": "#%%\n"
    }
   }
  },
  {
   "cell_type": "code",
   "execution_count": 124,
   "outputs": [
    {
     "data": {
      "text/plain": "array(['nan', 'Mexico', 'Guatemala', 'United States', 'England', 'Spain',\n       'United States|England', 'Netherlands',\n       'United States|United States', 'France', 'Canada',\n       'United States|France', 'England|France', 'China', 'Italy',\n       'Japan', 'Germany', 'Netherlands|Netherlands', 'Czech Republic',\n       'England|Ireland', 'Ireland|United States', 'Venezuela',\n       'England|Netherlands', 'England|Belgium', 'France|Italy',\n       'Bermuda', 'Ireland', 'India', 'England|United States',\n       'United States|United States|United States',\n       'France|NEW ZEALAND ROTORUA WHAKAREWAREWA',\n       'China|NEW ZEALAND ROTORUA WHAKAREWAREWA', 'Germany|Italy',\n       'Lisez et propagez nos Annales: \"L\\'Immacul‚e\"',\n       'France|Bernard Turner', 'France|Harold Copping',\n       'Czech Republic|England', 'Belgium|France',\n       'Belgium|England|France', 'United States|Germany',\n       'France|Germany', 'Scotland', 'Germany|Czech Republic', 'Holland',\n       'England|England', 'United States|Denmark',\n       'Finland|Denmark|United States', 'United States|China',\n       'China|India', 'United States|Wales', 'Italy|United States',\n       'United States|England|Scotland|Wales', 'Switzerland', 'Portugal',\n       'Scotland|', 'England|Scotland', 'Paraguay',\n       'United States|United States|United States|United States',\n       'France|Switzerland', 'United States|France|Tibet', 'Iran',\n       'Russia', 'Turkey', 'United States|British Isles',\n       'Germany|Netherlands', 'United States|India', 'France|England',\n       'United States|Italy', 'Peru', 'Colombia', 'Syria',\n       'Democratic Republic of the Congo', 'Cameroon', 'Armenia',\n       'from the Balkans', 'Algeria', 'Algeria|', 'Palestine', 'Morocco',\n       'Uzbekistan', 'South Africa', 'Kuwait', 'Samoa', 'Tonga', 'Tonga|',\n       'present-day Uzbekistan', 'Burkina Faso', 'Afghanistan', 'Nigeria',\n       'present-day Afghanistan', 'Pakistan', 'Balkans|', 'Turkmenistan',\n       'Ghana', \"Côte d'Ivoire\", 'Kenya', 'Ethiopia', 'Tanzania',\n       'Tanzania|', 'Madagascar', 'Liberia', 'Morocco|', 'Tunesia',\n       'Tunisia', 'TunIsia', 'Egypt', 'Indonesia', 'Java', 'Borneo',\n       'Philippines', 'Syria|', 'Saudi Arabia', 'Palestine|', 'Iraq',\n       'Georgia', 'Panama', 'Saudi Arabia|', 'Turkey|', 'Egypt|',\n       'Bolivia', 'iran', 'Uganda', 'Brazil|Portugal', 'China|Mexico',\n       'Spain|Mexico', 'Italy|France', 'Flanders|Mexico',\n       'Spain|Germany|Mexico', 'Mexico|China', 'Ecuador|Peru',\n       'Guatemala|Mexico', 'Ecuador|Philippines', 'Ecuador|Ecuador',\n       'Peru|Ecuador', 'Ecuador', 'Mexico|Ecuador', 'Mexico|Guatemala',\n       'Cuba', 'Brazil', 'Ecuador|Mexico', 'Papua New Guinea',\n       'Costa Rica|', 'Chile', 'Peru|', 'Costa Rica|Costa Rica',\n       'Costa Rica', 'Argentina', 'Ecuador, Peru, Bolivia, Argentina,|',\n       'Australia', 'Mali|', 'Mali', 'Solomon Islands', 'Honduras',\n       'South Sudan', 'Ecuador, Peru, Bolivia, Chile,|', 'Colombia|',\n       'Vanuatu', 'Angola|', 'Togo', \"Côte d'Ivoire|\", 'Sudan',\n       'Guatemala|', 'Fiji', 'Gabon', 'Angola', 'Sierra Leone',\n       'Republic of Palau', 'Bolivia|', 'Suriname', 'Gabon|', 'Guinea',\n       'Rwanda', 'Zambia', 'Republic of Congo', 'Burkina Faso|',\n       'Republic of Benin', 'Central African Republic', 'Guinea|',\n       'Republic of the Congo',\n       'Democratic Republic of the Congo, Republic of the Congo,|',\n       'Republic of Guinea-Bissau',\n       'Democratic Republic of the Congo|Cabinda, Angola|Republic of the Congo',\n       'Cameroon|', 'Kenya|', 'French Polynesia', 'New Zealand',\n       'Australia|', 'New Caledonia', 'Republic of the Marshall Islands',\n       'Marquesas Islands', 'Tahiti', 'Austria', 'Togo|', 'Chad',\n       'Somalia', 'Unknown country', 'Dominican Republic', 'Ecuador|',\n       'French Guiana', 'Puerto Rico', 'United States|', 'Mexico|',\n       'Cook Islands', 'Federated States of Micronesia', 'Mangareva',\n       'Wallis and Futuna Territory', 'Liberia|', 'Nauru', 'Malawi',\n       'Republic of Benin|', 'El Salvador|', 'Republic of Kiribati',\n       'Zimbabwe', 'Coastal Ecuador',\n       'Democratic Republic of Timor-Leste', 'Taiwan', 'Malaysia',\n       'Vietnam', 'Chile|', 'Nigeria|', 'Niger', 'South Africa|',\n       'El Salvador', 'Laos',\n       'Democratic Republic of the Congo|Republic of the Congo|Angola',\n       'Democratic Republic of the Congo|Angola|Republic of the Congo',\n       'Democratic Republic of the Congo|', \"Cote d'Ivoire\", 'Namibia',\n       'Papua New Guinea, Prince Alexander Mountains', 'Indonesia|',\n       'Nicaragua', 'Republic of Timor-Leste', 'Sierra Leone|',\n       'Zimbabwe|', 'Canada|', 'Greenland',\n       'Papua New Guinea|Papua New Guinea', 'Papua New Guinea|',\n       'Rwanda|', 'Republic of the Congo|', 'Senegal',\n       'Democratic Republic of Congo', 'Guinea Bissau', 'Zanzibar',\n       'Northern Tanzania and Kenya', 'New Guinea', 'Egypt and Sudan',\n       'Iraq|', 'Iran|', 'Unknown', 'present-day Greece', 'Greece',\n       'Bulgaria', 'Bosnia', 'Hungary', 'Northern Iraq|',\n       'present-day Pakistan', 'Syria|Egypt', 'Yemen', 'Albania',\n       'Western Iran, Northern Iraq,|', 'China|', 'India|',\n       'Northern Iraq, Syria,|', 'Southern India',\n       'present-day Saudi Arabia', 'Cyprus|', 'Sri Lanka',\n       'Northern India', 'Present-day Pakistan', 'Afghanistan|',\n       'Central India|', 'Spain|Egypt', 'Spain|', 'Azerbaijan',\n       'present-day Israel', 'Northwestern Iran', 'Poland', 'Iran|Iran',\n       'Bulgaria|', 'Eastern India', 'present-day Bangladesh',\n       'Northern India|', 'Northern Iran', 'Central India', 'Central|',\n       'present-day Turkey', 'Southern Italy', 'Central Iran',\n       'India, Nepal|', 'Egypt, Iran|', 'present-day Azerbaijan',\n       'Western Turkey', 'Western Iran', 'present-day China',\n       'Turkmenistan|', 'Uzbekistan|', 'present-day Afghanistan|',\n       'Western Turkmenistan', 'west-central Turkey',\n       'Northwestern Iran|', 'West Turkey',\n       'Probably West Central Turkey', 'China|Iraq', 'Syria|Iran',\n       'France|', 'Western India', 'Eastern Iran|', 'Greece|',\n       'Possibly Syria', 'India|Egypt', 'Iraq|Iran', 'Iraq|Iraq',\n       'Eastern Iran', 'Italy|', 'Iran|Iran|', 'Iran|Iraq', 'Iran|China',\n       'Iran|Iraq|', 'Iran|present-day Uzbekistan', 'Iran| Iran',\n       'present-day Lebanon', 'Iran|Syria|', 'Northeastern Iran',\n       'Armenia|', 'Iran, Iraq,|', 'Eastern Turkmenistan|',\n       'modern-day Afghanistan', 'Northwestern India',\n       'Northwestern Iran,', 'Present-day Uzbekistan', 'Jazira', 'Jordan',\n       'Germany|Iran', 'The Netherlands', 'Eastern Islamic lands',\n       'Western Islamic Lands', 'Central Asia', 'the Netherlands',\n       'Egypt, Iraq|', 'Iran|Egypt', 'Northwest Turkey', 'Central Turkey',\n       'Sothern Turkmenistan',\n       'present-day Uzbekistan|present-day Afghanistan',\n       'present-day Uzbekistan and Afghanistan', 'Probably Egypt',\n       'Probably Iran', 'Indiaal', 'Tunesia|', 'Northern|',\n       'India|present-day Afghanistan|', 'Iran, Syria|', 'Central Asia|',\n       'Present-day Turkmenistan', 'Western Iran|', 'Probably Iraq',\n       'Egypt|Iraq|', 'india', 'China|Iran', 'Eastern islamic lands',\n       'Iran|present-day Afghanistan', 'Egypt|Egypt',\n       'Modern cast of 39.40.39a', 'USA', 'U.S.A.', 'Bohemia',\n       'Northern Italy', 'Byzantine Egypt', 'Europe', 'Nicomedia',\n       'Central Italy', 'Flanders', 'Tirana', 'southern Italy', 'Norway',\n       'Northern Adriatic', 'North France', 'North France|',\n       'North Africa', 'northern France', 'Netherlands|', 'Germany|',\n       'Eastern Mediterranean', 'south central France', 'South France',\n       'Sweden', 'French', 'Northern France', 'northern France|',\n       'Russian|Northern France', 'La Tène II', 'northern Italy',\n       'Western France', 'Gaul', 'Alamania|Northern France', 'Alamania',\n       'Alamania|France', 'Northern France|Alamania', 'Niederbreisig',\n       'Western Germany', 'Rhein', 'Alamania|Northern France|Germany',\n       'Northern France|Germany', 'Germany|Northern France',\n       'southern Germany|', 'South Netherlands', 'Italian', 'Scandinavia',\n       'Gotland', 'Central Europe', 'present-day France',\n       'the Iberian peninsula', 'Iberian Peninsula', 'central Europe',\n       'northern Europe', 'Southern France', 'nothern Spain|',\n       'Southwestern France', 'Belgium', 'present-day Spain',\n       'perhaps Syria', 'German', 'Southern Netherlands',\n       'French|Belgium', 'Byzantium|', 'Brussels', 'north|',\n       'southern England', 'Rome', 'Northern Switzerland', 'European',\n       'Austrian', 'Lake Van region, Vaspurakan', 'Northeastern France',\n       'Northeast Italy', 'Spain and Italy', 'Ukraine', 'Black Sea',\n       'italy', 'North Netherlands', 'North Netherland', 'Lower Austria',\n       'Constantinople', 'South Italy', 'British Isles',\n       'South Netherland', 'Northern Europe', 'England|',\n       'South Netherlandish', 'France|France', 'Haute Garonne.',\n       'Carpathian Basin region', 'east-central Europe', 'Probably Gaul',\n       'Southern Russia|', 'present-day Poland', 'Crete', 'America', 'UK',\n       'US', 'South Africa, Africa', 'Italy and United States',\n       'United Kingdom', 'Japan|China', 'Tibet', 'Korea', 'India|Nepal',\n       'Myanmar', 'Thailand', 'Thailand and Myanmar', 'Croatia', 'Ghana|',\n       'Borneo|', 'Venezuela:N.A.', 'Russia Federation',\n       'Russian Federation',\n       'Georgia, Republic of  [Azerbaijan, Armenia]',\n       'Azerbaijan, Armenia|', 'Arabia|Iran', 'Montenegro  Yugoslavia',\n       'Arabia', 'Arabian Peninsula', 'Syria  Saudia Arabia',\n       'Egypt, Bulgaria|', 'Bulgaria|Egypt', 'former Yugoslavia',\n       'Dem. Rep. of Congo', 'Congo', 'Mozambique', 'Senegal|', 'Benin|',\n       'Benin', 'Republic of Cameroon', 'Canada: N.A.', 'Guyana',\n       'Guatemala|Guyana', 'Colombia|Ecuador', 'Marshall Islands',\n       'Possibly Sarawak', 'Sarawak', 'Romania', 'United Kingdom|',\n       'Slovakia', 'Germany, France,|', 'Austria|', 'Finland',\n       'Friesland', 'Probably Sierra Leone', 'Arabia|', 'Uganda|',\n       'Republic of Cameroon|', 'Norfolk Island', 'Sulawesi', 'Belgium|',\n       'Uganda/Tanzania', 'Mozambique|Zimbabwe|Malawi', 'Peru|Peru',\n       \"Liberia-Côte d'Ivoire\", 'Bosnia and Herzegovina', 'Japan|',\n       'Gambia', 'Montenegro', 'Uganda/Rwanda', 'Malta',\n       'Republic of Costa Rica', 'Nepal', 'France:N.', 'Ivory Coast',\n       'Sumatra', 'Probably Burkina Faso', 'Lesotho', 'Tajikistan',\n       'Czechoslovakia|', 'Nigeria, Ghana|', 'Serbia', 'Ireland|',\n       'Mongolia', 'France/USA', 'France|United States', 'Flemish',\n       'Republic of Guinea', 'Malawi|', 'Greece|Turkey',\n       'Probably Democratic Republic of Congo', 'Tibet|China|India',\n       'Cambodia', 'Hungary|', 'Austria / Germany', 'Mauritania',\n       'Republic of  Cameroon', 'Kosova', 'Tibet/north India',\n       'Probably Democratic Republic of the Congo', 'Bhutan', 'Denmark',\n       'Zambia|', 'United States|Austria', 'Uganda-Sudan', 'Burma',\n       'Tanzania/Kenya', 'Macedonia', 'Slovenia',\n       'Republic of Congo & Angola', 'Philippine Islands',\n       'Republic of the Philippines', 'Norway|', 'England|Germany',\n       'Tibet|China', 'Herzegovina', 'Bosnia - Herzegovina',\n       'Possibly Greece', 'Scandinavia|', 'Dem. Rep. Congo',\n       'India|Pakistan', 'Bohemia|Germany|Italy', 'Laos and Thailand',\n       'Persia|', 'Probably Germany', 'Tibet/Nepal', 'Switzerland|France',\n       'Republic of Madagascar', 'Mali|Possibly Algeria/Tunesia',\n       'Ethiopia|', 'Pakistan|India', 'Czech Republic|',\n       'Italy|United Kingdom', 'Turkey|India', 'Canaan', 'Cyprus',\n       'Egypt|Gaul', 'Nubia', 'Surinam', 'Russia|United States',\n       'India|United States', 'Southwestern Iran', 'Caucasus',\n       'Southern Turkey', 'Northern Iraq', 'present-day Belgium',\n       'Belize, Honduras, Guatemala,|', 'Central Mexico',\n       'United States|United States|Canada', 'Canada|Canada',\n       'Bolivia, Peru,|', 'Italy|Italy',\n       'Canada|United States|United States', 'Canada|United States',\n       'Argentina, Peru,|', 'New Spain', 'Iran and Turkey',\n       'Western Australia', 'Southwest Iran', 'present-day Kirghiztan',\n       'Northwest Iran', 'Uruguay', 'North India|', 'Israel',\n       'Martinique', 'Iraq|China', 'United States of America'],\n      dtype=object)"
     },
     "execution_count": 124,
     "metadata": {},
     "output_type": "execute_result"
    }
   ],
   "source": [
    "#Country\n",
    "andrew_df[\"Country\"] = andrew_df[\"Country\"].replace(to_replace = '\\(\\?\\)|\\?', value = '', regex = True)\n",
    "andrew_df[\"Country\"] = andrew_df[\"Country\"].replace(to_replace = '\\(.*', value = '', regex = True)\n",
    "andrew_df[\"Country\"] = andrew_df[\"Country\"].replace(to_replace = 'maybe|probably|possibly', value = '', regex = True)\n",
    "andrew_df[\"Country\"] = andrew_df[\"Country\"].replace(to_replace = '\\sor\\s.*', value = '|', regex = True)\n",
    "andrew_df[\"Country\"] = andrew_df[\"Country\"].replace(to_replace = '\\sor.*', value = '|', regex = True)\n",
    "andrew_df[\"Country\"] = andrew_df[\"Country\"].str.strip()\n",
    "andrew_df[~andrew_df[\"Country\"].str.contains(\"\\sor\", regex=True)][\"Country\"].unique()"
   ],
   "metadata": {
    "collapsed": false,
    "pycharm": {
     "name": "#%%\n"
    }
   }
  },
  {
   "cell_type": "code",
   "execution_count": 125,
   "outputs": [
    {
     "data": {
      "text/plain": "  Artist Prefix Artist Suffix Artist Begin Date  \\\n0           NaN           NaN        1794         \n1           NaN           NaN        1785         \n2           nan           nan               nan   \n3           nan           nan               nan   \n4           nan           nan               nan   \n\n                              Artist ULAN URL  \n0  http://vocab.getty.edu/page/ulan/500011409  \n1  http://vocab.getty.edu/page/ulan/500077295  \n2                                         nan  \n3                                         nan  \n4                                         nan  ",
      "text/html": "<div>\n<style scoped>\n    .dataframe tbody tr th:only-of-type {\n        vertical-align: middle;\n    }\n\n    .dataframe tbody tr th {\n        vertical-align: top;\n    }\n\n    .dataframe thead th {\n        text-align: right;\n    }\n</style>\n<table border=\"1\" class=\"dataframe\">\n  <thead>\n    <tr style=\"text-align: right;\">\n      <th></th>\n      <th>Artist Prefix</th>\n      <th>Artist Suffix</th>\n      <th>Artist Begin Date</th>\n      <th>Artist ULAN URL</th>\n    </tr>\n  </thead>\n  <tbody>\n    <tr>\n      <th>0</th>\n      <td>NaN</td>\n      <td>NaN</td>\n      <td>1794</td>\n      <td>http://vocab.getty.edu/page/ulan/500011409</td>\n    </tr>\n    <tr>\n      <th>1</th>\n      <td>NaN</td>\n      <td>NaN</td>\n      <td>1785</td>\n      <td>http://vocab.getty.edu/page/ulan/500077295</td>\n    </tr>\n    <tr>\n      <th>2</th>\n      <td>nan</td>\n      <td>nan</td>\n      <td>nan</td>\n      <td>nan</td>\n    </tr>\n    <tr>\n      <th>3</th>\n      <td>nan</td>\n      <td>nan</td>\n      <td>nan</td>\n      <td>nan</td>\n    </tr>\n    <tr>\n      <th>4</th>\n      <td>nan</td>\n      <td>nan</td>\n      <td>nan</td>\n      <td>nan</td>\n    </tr>\n  </tbody>\n</table>\n</div>"
     },
     "execution_count": 125,
     "metadata": {},
     "output_type": "execute_result"
    }
   ],
   "source": [
    "andrew_artist_df = andrew_artist_df.replace(r'^\\s*$', np.nan, regex=True)\n",
    "andrew_artist_df.head(5)"
   ],
   "metadata": {
    "collapsed": false,
    "pycharm": {
     "name": "#%%\n"
    }
   }
  },
  {
   "cell_type": "code",
   "execution_count": 126,
   "outputs": [
    {
     "data": {
      "text/plain": "                                  Artist Suffix  Artist Begin Date  \\\nArtist Prefix                                                        \n\"A Letter...\" written by                      0                  1   \n\"Autumn\" dedicated to                         0                  1   \n\"Britannia\" published by                      0                  1   \n\"Chapman\" written by                          0                  1   \n\"Christopher Tadpole\" written by              0                  1   \n...                                         ...                ...   \nwith frieze carved by                         0                  1   \nwith illustrations by                         0                  1   \nworking together as the firm                  0                  0   \nworkshop of                                   0                  1   \nwoven under the direction of                  0                  1   \n\n                                  Artist ULAN URL  \nArtist Prefix                                      \n\"A Letter...\" written by                        0  \n\"Autumn\" dedicated to                           0  \n\"Britannia\" published by                        0  \n\"Chapman\" written by                            1  \n\"Christopher Tadpole\" written by                0  \n...                                           ...  \nwith frieze carved by                           1  \nwith illustrations by                           1  \nworking together as the firm                    0  \nworkshop of                                     1  \nwoven under the direction of                    1  \n\n[3608 rows x 3 columns]",
      "text/html": "<div>\n<style scoped>\n    .dataframe tbody tr th:only-of-type {\n        vertical-align: middle;\n    }\n\n    .dataframe tbody tr th {\n        vertical-align: top;\n    }\n\n    .dataframe thead th {\n        text-align: right;\n    }\n</style>\n<table border=\"1\" class=\"dataframe\">\n  <thead>\n    <tr style=\"text-align: right;\">\n      <th></th>\n      <th>Artist Suffix</th>\n      <th>Artist Begin Date</th>\n      <th>Artist ULAN URL</th>\n    </tr>\n    <tr>\n      <th>Artist Prefix</th>\n      <th></th>\n      <th></th>\n      <th></th>\n    </tr>\n  </thead>\n  <tbody>\n    <tr>\n      <th>\"A Letter...\" written by</th>\n      <td>0</td>\n      <td>1</td>\n      <td>0</td>\n    </tr>\n    <tr>\n      <th>\"Autumn\" dedicated to</th>\n      <td>0</td>\n      <td>1</td>\n      <td>0</td>\n    </tr>\n    <tr>\n      <th>\"Britannia\" published by</th>\n      <td>0</td>\n      <td>1</td>\n      <td>0</td>\n    </tr>\n    <tr>\n      <th>\"Chapman\" written by</th>\n      <td>0</td>\n      <td>1</td>\n      <td>1</td>\n    </tr>\n    <tr>\n      <th>\"Christopher Tadpole\" written by</th>\n      <td>0</td>\n      <td>1</td>\n      <td>0</td>\n    </tr>\n    <tr>\n      <th>...</th>\n      <td>...</td>\n      <td>...</td>\n      <td>...</td>\n    </tr>\n    <tr>\n      <th>with frieze carved by</th>\n      <td>0</td>\n      <td>1</td>\n      <td>1</td>\n    </tr>\n    <tr>\n      <th>with illustrations by</th>\n      <td>0</td>\n      <td>1</td>\n      <td>1</td>\n    </tr>\n    <tr>\n      <th>working together as the firm</th>\n      <td>0</td>\n      <td>0</td>\n      <td>0</td>\n    </tr>\n    <tr>\n      <th>workshop of</th>\n      <td>0</td>\n      <td>1</td>\n      <td>1</td>\n    </tr>\n    <tr>\n      <th>woven under the direction of</th>\n      <td>0</td>\n      <td>1</td>\n      <td>1</td>\n    </tr>\n  </tbody>\n</table>\n<p>3608 rows × 3 columns</p>\n</div>"
     },
     "execution_count": 126,
     "metadata": {},
     "output_type": "execute_result"
    }
   ],
   "source": [
    "#Artist Prefix\n",
    "andrew_artist_df[\"Artist Prefix\"] = andrew_artist_df[\"Artist Prefix\"].str.strip()\n",
    "andrew_artist_df.groupby('Artist Prefix').nunique()"
   ],
   "metadata": {
    "collapsed": false,
    "pycharm": {
     "name": "#%%\n"
    }
   }
  },
  {
   "cell_type": "code",
   "execution_count": 127,
   "outputs": [
    {
     "data": {
      "text/plain": "                                      Artist Prefix  Artist Begin Date  \\\nArtist Suffix                                                            \n\"                                                 1                  0   \n& Beccles                                         0                  1   \n& Bungay, Suffolk                                 0                  1   \n& Co.                                             0                  1   \n& Co., London, Paris & New York                   0                  1   \n...                                             ...                ...   \nwith spurious signature of Shitao                 1                  1   \nworking in Tuscany                                1                  0   \nworking in the workshop of Sahib Ram              1                  0   \nworkshop                                          3                  0   \nà Waesberge, Amsterdam                            1                  1   \n\n                                      Artist ULAN URL  Artist suffix  \nArtist Suffix                                                         \n\"                                                   0              1  \n& Beccles                                           0              0  \n& Bungay, Suffolk                                   0              0  \n& Co.                                               0              0  \n& Co., London, Paris & New York                     0              0  \n...                                               ...            ...  \nwith spurious signature of Shitao                   1              1  \nworking in Tuscany                                  1              1  \nworking in the workshop of Sahib Ram                1              1  \nworkshop                                            1              3  \nà Waesberge, Amsterdam                              0              1  \n\n[2018 rows x 4 columns]",
      "text/html": "<div>\n<style scoped>\n    .dataframe tbody tr th:only-of-type {\n        vertical-align: middle;\n    }\n\n    .dataframe tbody tr th {\n        vertical-align: top;\n    }\n\n    .dataframe thead th {\n        text-align: right;\n    }\n</style>\n<table border=\"1\" class=\"dataframe\">\n  <thead>\n    <tr style=\"text-align: right;\">\n      <th></th>\n      <th>Artist Prefix</th>\n      <th>Artist Begin Date</th>\n      <th>Artist ULAN URL</th>\n      <th>Artist suffix</th>\n    </tr>\n    <tr>\n      <th>Artist Suffix</th>\n      <th></th>\n      <th></th>\n      <th></th>\n      <th></th>\n    </tr>\n  </thead>\n  <tbody>\n    <tr>\n      <th>\"</th>\n      <td>1</td>\n      <td>0</td>\n      <td>0</td>\n      <td>1</td>\n    </tr>\n    <tr>\n      <th>&amp; Beccles</th>\n      <td>0</td>\n      <td>1</td>\n      <td>0</td>\n      <td>0</td>\n    </tr>\n    <tr>\n      <th>&amp; Bungay, Suffolk</th>\n      <td>0</td>\n      <td>1</td>\n      <td>0</td>\n      <td>0</td>\n    </tr>\n    <tr>\n      <th>&amp; Co.</th>\n      <td>0</td>\n      <td>1</td>\n      <td>0</td>\n      <td>0</td>\n    </tr>\n    <tr>\n      <th>&amp; Co., London, Paris &amp; New York</th>\n      <td>0</td>\n      <td>1</td>\n      <td>0</td>\n      <td>0</td>\n    </tr>\n    <tr>\n      <th>...</th>\n      <td>...</td>\n      <td>...</td>\n      <td>...</td>\n      <td>...</td>\n    </tr>\n    <tr>\n      <th>with spurious signature of Shitao</th>\n      <td>1</td>\n      <td>1</td>\n      <td>1</td>\n      <td>1</td>\n    </tr>\n    <tr>\n      <th>working in Tuscany</th>\n      <td>1</td>\n      <td>0</td>\n      <td>1</td>\n      <td>1</td>\n    </tr>\n    <tr>\n      <th>working in the workshop of Sahib Ram</th>\n      <td>1</td>\n      <td>0</td>\n      <td>1</td>\n      <td>1</td>\n    </tr>\n    <tr>\n      <th>workshop</th>\n      <td>3</td>\n      <td>0</td>\n      <td>1</td>\n      <td>3</td>\n    </tr>\n    <tr>\n      <th>à Waesberge, Amsterdam</th>\n      <td>1</td>\n      <td>1</td>\n      <td>0</td>\n      <td>1</td>\n    </tr>\n  </tbody>\n</table>\n<p>2018 rows × 4 columns</p>\n</div>"
     },
     "execution_count": 127,
     "metadata": {},
     "output_type": "execute_result"
    }
   ],
   "source": [
    "#Artist Suffix\n",
    "andrew_artist_df[\"Artist suffix\"] = andrew_artist_df[\"Artist Prefix\"].str.strip()\n",
    "andrew_artist_df.groupby('Artist Suffix').nunique()"
   ],
   "metadata": {
    "collapsed": false,
    "pycharm": {
     "name": "#%%\n"
    }
   }
  },
  {
   "cell_type": "code",
   "execution_count": 128,
   "outputs": [
    {
     "data": {
      "text/plain": "                   Artist Prefix  Artist Suffix  Artist ULAN URL  \\\nArtist Begin Date                                                  \n-0042                          0              0                1   \n-0043                          3              0                1   \n-0054                          1              0                0   \n-0059                          1              0                0   \n-0063                          0              0                0   \n...                          ...            ...              ...   \n2013                           0              0                1   \n2014                           0              0                0   \n2015                           0              0                0   \n2016                           0              0                1   \n2021                           0              0                1   \n\n                   Artist suffix  \nArtist Begin Date                 \n-0042                          0  \n-0043                          3  \n-0054                          1  \n-0059                          1  \n-0063                          0  \n...                          ...  \n2013                           0  \n2014                           0  \n2015                           0  \n2016                           0  \n2021                           0  \n\n[932 rows x 4 columns]",
      "text/html": "<div>\n<style scoped>\n    .dataframe tbody tr th:only-of-type {\n        vertical-align: middle;\n    }\n\n    .dataframe tbody tr th {\n        vertical-align: top;\n    }\n\n    .dataframe thead th {\n        text-align: right;\n    }\n</style>\n<table border=\"1\" class=\"dataframe\">\n  <thead>\n    <tr style=\"text-align: right;\">\n      <th></th>\n      <th>Artist Prefix</th>\n      <th>Artist Suffix</th>\n      <th>Artist ULAN URL</th>\n      <th>Artist suffix</th>\n    </tr>\n    <tr>\n      <th>Artist Begin Date</th>\n      <th></th>\n      <th></th>\n      <th></th>\n      <th></th>\n    </tr>\n  </thead>\n  <tbody>\n    <tr>\n      <th>-0042</th>\n      <td>0</td>\n      <td>0</td>\n      <td>1</td>\n      <td>0</td>\n    </tr>\n    <tr>\n      <th>-0043</th>\n      <td>3</td>\n      <td>0</td>\n      <td>1</td>\n      <td>3</td>\n    </tr>\n    <tr>\n      <th>-0054</th>\n      <td>1</td>\n      <td>0</td>\n      <td>0</td>\n      <td>1</td>\n    </tr>\n    <tr>\n      <th>-0059</th>\n      <td>1</td>\n      <td>0</td>\n      <td>0</td>\n      <td>1</td>\n    </tr>\n    <tr>\n      <th>-0063</th>\n      <td>0</td>\n      <td>0</td>\n      <td>0</td>\n      <td>0</td>\n    </tr>\n    <tr>\n      <th>...</th>\n      <td>...</td>\n      <td>...</td>\n      <td>...</td>\n      <td>...</td>\n    </tr>\n    <tr>\n      <th>2013</th>\n      <td>0</td>\n      <td>0</td>\n      <td>1</td>\n      <td>0</td>\n    </tr>\n    <tr>\n      <th>2014</th>\n      <td>0</td>\n      <td>0</td>\n      <td>0</td>\n      <td>0</td>\n    </tr>\n    <tr>\n      <th>2015</th>\n      <td>0</td>\n      <td>0</td>\n      <td>0</td>\n      <td>0</td>\n    </tr>\n    <tr>\n      <th>2016</th>\n      <td>0</td>\n      <td>0</td>\n      <td>1</td>\n      <td>0</td>\n    </tr>\n    <tr>\n      <th>2021</th>\n      <td>0</td>\n      <td>0</td>\n      <td>1</td>\n      <td>0</td>\n    </tr>\n  </tbody>\n</table>\n<p>932 rows × 4 columns</p>\n</div>"
     },
     "execution_count": 128,
     "metadata": {},
     "output_type": "execute_result"
    }
   ],
   "source": [
    "#Artist Begin Date\n",
    "andrew_artist_df[\"Artist Begin Date\"] = andrew_artist_df[\"Artist Begin Date\"].str.extract(r'(-*\\d{4})')\n",
    "andrew_artist_df.groupby('Artist Begin Date').nunique()\n",
    "#andrew_df[~andrew_df[\"Artist Begin Date\"].str.contains(\"\\sor\", regex=True)][\"Artist Begin Date\"].unique()"
   ],
   "metadata": {
    "collapsed": false,
    "pycharm": {
     "name": "#%%\n"
    }
   }
  },
  {
   "cell_type": "code",
   "execution_count": 129,
   "outputs": [
    {
     "name": "stdout",
     "output_type": "stream",
     "text": [
      "Object Number 478791\n",
      "City 478791\n"
     ]
    }
   ],
   "source": [
    "city_col_list = [12] # making list of column index from Q->AB\n",
    "city_col_list.insert(0, 0) # Adding the first column as index\n",
    "city_df = andrew_df.iloc[: , city_col_list] #subsets originas dataframe 'df'\n",
    "city_df = split_rows(city_df)"
   ],
   "metadata": {
    "collapsed": false,
    "pycharm": {
     "name": "#%%\n"
    }
   }
  },
  {
   "cell_type": "code",
   "execution_count": 130,
   "outputs": [
    {
     "data": {
      "text/plain": "                     Object Number\nCity                              \n                               199\n Baghdad                         1\n Madrid                          1\n Milan                           1\n Nishapur                        1\n...                            ...\nvicinity of Salerno              1\nvicinity of Ulm                  1\nvicinity of Verona               1\nČeský Těšin                      1\nŌsaka                            1\n\n[2015 rows x 1 columns]",
      "text/html": "<div>\n<style scoped>\n    .dataframe tbody tr th:only-of-type {\n        vertical-align: middle;\n    }\n\n    .dataframe tbody tr th {\n        vertical-align: top;\n    }\n\n    .dataframe thead th {\n        text-align: right;\n    }\n</style>\n<table border=\"1\" class=\"dataframe\">\n  <thead>\n    <tr style=\"text-align: right;\">\n      <th></th>\n      <th>Object Number</th>\n    </tr>\n    <tr>\n      <th>City</th>\n      <th></th>\n    </tr>\n  </thead>\n  <tbody>\n    <tr>\n      <th></th>\n      <td>199</td>\n    </tr>\n    <tr>\n      <th>Baghdad</th>\n      <td>1</td>\n    </tr>\n    <tr>\n      <th>Madrid</th>\n      <td>1</td>\n    </tr>\n    <tr>\n      <th>Milan</th>\n      <td>1</td>\n    </tr>\n    <tr>\n      <th>Nishapur</th>\n      <td>1</td>\n    </tr>\n    <tr>\n      <th>...</th>\n      <td>...</td>\n    </tr>\n    <tr>\n      <th>vicinity of Salerno</th>\n      <td>1</td>\n    </tr>\n    <tr>\n      <th>vicinity of Ulm</th>\n      <td>1</td>\n    </tr>\n    <tr>\n      <th>vicinity of Verona</th>\n      <td>1</td>\n    </tr>\n    <tr>\n      <th>Český Těšin</th>\n      <td>1</td>\n    </tr>\n    <tr>\n      <th>Ōsaka</th>\n      <td>1</td>\n    </tr>\n  </tbody>\n</table>\n<p>2015 rows × 1 columns</p>\n</div>"
     },
     "execution_count": 130,
     "metadata": {},
     "output_type": "execute_result"
    }
   ],
   "source": [
    "city_df.groupby('City').nunique()"
   ],
   "metadata": {
    "collapsed": false,
    "pycharm": {
     "name": "#%%\n"
    }
   }
  },
  {
   "cell_type": "code",
   "execution_count": 133,
   "outputs": [
    {
     "name": "stdout",
     "output_type": "stream",
     "text": [
      "Object Number 479926\n",
      "Country 479926\n"
     ]
    },
    {
     "data": {
      "text/plain": "  Object Number Country\n0    1979.486.1     nan\n1    1980.264.5     nan\n2      67.265.9     nan\n3     67.265.10     nan\n4     67.265.11     nan",
      "text/html": "<div>\n<style scoped>\n    .dataframe tbody tr th:only-of-type {\n        vertical-align: middle;\n    }\n\n    .dataframe tbody tr th {\n        vertical-align: top;\n    }\n\n    .dataframe thead th {\n        text-align: right;\n    }\n</style>\n<table border=\"1\" class=\"dataframe\">\n  <thead>\n    <tr style=\"text-align: right;\">\n      <th></th>\n      <th>Object Number</th>\n      <th>Country</th>\n    </tr>\n  </thead>\n  <tbody>\n    <tr>\n      <th>0</th>\n      <td>1979.486.1</td>\n      <td>nan</td>\n    </tr>\n    <tr>\n      <th>1</th>\n      <td>1980.264.5</td>\n      <td>nan</td>\n    </tr>\n    <tr>\n      <th>2</th>\n      <td>67.265.9</td>\n      <td>nan</td>\n    </tr>\n    <tr>\n      <th>3</th>\n      <td>67.265.10</td>\n      <td>nan</td>\n    </tr>\n    <tr>\n      <th>4</th>\n      <td>67.265.11</td>\n      <td>nan</td>\n    </tr>\n  </tbody>\n</table>\n</div>"
     },
     "execution_count": 133,
     "metadata": {},
     "output_type": "execute_result"
    }
   ],
   "source": [
    "country_col_list = [13] # making list of column index from Q->AB\n",
    "country_col_list.insert(0, 0) # Adding the first column as index\n",
    "country_df = andrew_df.iloc[: , country_col_list]\n",
    "country_df = split_rows(country_df)\n",
    "country_df.head()"
   ],
   "metadata": {
    "collapsed": false,
    "pycharm": {
     "name": "#%%\n"
    }
   }
  },
  {
   "cell_type": "code",
   "execution_count": 135,
   "outputs": [
    {
     "data": {
      "text/plain": "                       Object Number\nCountry                             \n                                1016\n Iran                              1\nAfghanistan                       64\nAlamania                           9\nAlbania                            3\n...                              ...\nsouthern Germany                   1\nsouthern Italy                     2\nthe Iberian peninsula              1\nthe Netherlands                    3\nwest-central Turkey                1\n\n[420 rows x 1 columns]",
      "text/html": "<div>\n<style scoped>\n    .dataframe tbody tr th:only-of-type {\n        vertical-align: middle;\n    }\n\n    .dataframe tbody tr th {\n        vertical-align: top;\n    }\n\n    .dataframe thead th {\n        text-align: right;\n    }\n</style>\n<table border=\"1\" class=\"dataframe\">\n  <thead>\n    <tr style=\"text-align: right;\">\n      <th></th>\n      <th>Object Number</th>\n    </tr>\n    <tr>\n      <th>Country</th>\n      <th></th>\n    </tr>\n  </thead>\n  <tbody>\n    <tr>\n      <th></th>\n      <td>1016</td>\n    </tr>\n    <tr>\n      <th>Iran</th>\n      <td>1</td>\n    </tr>\n    <tr>\n      <th>Afghanistan</th>\n      <td>64</td>\n    </tr>\n    <tr>\n      <th>Alamania</th>\n      <td>9</td>\n    </tr>\n    <tr>\n      <th>Albania</th>\n      <td>3</td>\n    </tr>\n    <tr>\n      <th>...</th>\n      <td>...</td>\n    </tr>\n    <tr>\n      <th>southern Germany</th>\n      <td>1</td>\n    </tr>\n    <tr>\n      <th>southern Italy</th>\n      <td>2</td>\n    </tr>\n    <tr>\n      <th>the Iberian peninsula</th>\n      <td>1</td>\n    </tr>\n    <tr>\n      <th>the Netherlands</th>\n      <td>3</td>\n    </tr>\n    <tr>\n      <th>west-central Turkey</th>\n      <td>1</td>\n    </tr>\n  </tbody>\n</table>\n<p>420 rows × 1 columns</p>\n</div>"
     },
     "execution_count": 135,
     "metadata": {},
     "output_type": "execute_result"
    }
   ],
   "source": [
    "country_df.groupby('Country').nunique()"
   ],
   "metadata": {
    "collapsed": false,
    "pycharm": {
     "name": "#%%\n"
    }
   }
  },
  {
   "cell_type": "code",
   "execution_count": null,
   "outputs": [],
   "source": [],
   "metadata": {
    "collapsed": false,
    "pycharm": {
     "name": "#%%\n"
    }
   }
  }
 ],
 "metadata": {
  "interpreter": {
   "hash": "312b54c31e402012046b7fc9fed27eeff3e347acf23c6978896c1c7dd18591b8"
  },
  "kernelspec": {
   "display_name": "Python 3.8.8 ('proj_env': venv)",
   "language": "python",
   "name": "python3"
  },
  "language_info": {
   "codemirror_mode": {
    "name": "ipython",
    "version": 3
   },
   "file_extension": ".py",
   "mimetype": "text/x-python",
   "name": "python",
   "nbconvert_exporter": "python",
   "pygments_lexer": "ipython3",
   "version": "3.8.8"
  },
  "orig_nbformat": 4
 },
 "nbformat": 4,
 "nbformat_minor": 2
}