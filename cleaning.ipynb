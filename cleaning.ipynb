{
 "cells": [
  {
   "cell_type": "code",
   "execution_count": 8,
   "metadata": {},
   "outputs": [],
   "source": [
    "%load_ext autoreload\n",
    "%autoreload 2\n",
    "import pandas as pd\n",
    "import os\n",
    "from cleaning_utils import *"
   ]
  },
  {
   "cell_type": "code",
   "execution_count": 9,
   "metadata": {},
   "outputs": [
    {
     "name": "stderr",
     "output_type": "stream",
     "text": [
      "C:\\Users\\mschm\\AppData\\Local\\Temp\\ipykernel_2548\\2169386161.py:2: DtypeWarning: Columns (5,7,10,11,12,13,14,34,35,36,37,38,39,40,41,42,43,44,45,46) have mixed types. Specify dtype option on import or set low_memory=False.\n",
      "  df = pd.read_csv(os.path.join(cwd, \"MetObjects.txt\"))\n"
     ]
    }
   ],
   "source": [
    "cwd = os.getcwd()\n",
    "df = pd.read_csv(os.path.join(cwd, \"MetObjects.txt\"))\n",
    "\n",
    "mike_col_list = [i for i in range(0, df.shape[1], 3)]\n",
    "mike_df = df.iloc[:, mike_col_list]\n",
    "\n",
    "artist_col_list = list(range(16, 28)) # making list of column index from Q->AB\n",
    "artist_col_list.insert(0, 0) # Adding the first column as index\n",
    "artist_df = df.iloc[: , artist_col_list] #subsets originas dataframe 'df'\n",
    "artist_df = split_rows(artist_df)\n",
    "\n",
    "mike_artist_cols = [i for i in range(3, artist_df.shape[1], 3)]\n",
    "mike_artist_df = artist_df.iloc[:, mike_artist_cols]\n"
   ]
  },
  {
   "cell_type": "code",
   "execution_count": null,
   "metadata": {},
   "outputs": [],
   "source": []
  },
  {
   "cell_type": "code",
   "execution_count": null,
   "metadata": {},
   "outputs": [],
   "source": []
  },
  {
   "cell_type": "code",
   "execution_count": null,
   "metadata": {},
   "outputs": [],
   "source": []
  }
 ],
 "metadata": {
  "interpreter": {
   "hash": "312b54c31e402012046b7fc9fed27eeff3e347acf23c6978896c1c7dd18591b8"
  },
  "kernelspec": {
   "display_name": "Python 3.8.8 ('proj_env': venv)",
   "language": "python",
   "name": "python3"
  },
  "language_info": {
   "codemirror_mode": {
    "name": "ipython",
    "version": 3
   },
   "file_extension": ".py",
   "mimetype": "text/x-python",
   "name": "python",
   "nbconvert_exporter": "python",
   "pygments_lexer": "ipython3",
   "version": "3.8.8"
  },
  "orig_nbformat": 4
 },
 "nbformat": 4,
 "nbformat_minor": 2
}
