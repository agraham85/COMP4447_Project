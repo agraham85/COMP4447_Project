{
 "cells": [
  {
   "cell_type": "code",
   "execution_count": 8,
   "metadata": {},
   "outputs": [],
   "source": [
    "%load_ext autoreload\n",
    "%autoreload 2\n",
    "import pandas as pd\n",
    "import os\n",
    "from cleaning_utils import *"
   ]
  },
  {
   "cell_type": "code",
   "execution_count": 9,
   "metadata": {},
   "outputs": [
    {
     "name": "stderr",
     "output_type": "stream",
     "text": [
      "C:\\Users\\mschm\\AppData\\Local\\Temp\\ipykernel_2548\\2169386161.py:2: DtypeWarning: Columns (5,7,10,11,12,13,14,34,35,36,37,38,39,40,41,42,43,44,45,46) have mixed types. Specify dtype option on import or set low_memory=False.\n",
      "  df = pd.read_csv(os.path.join(cwd, \"MetObjects.txt\"))\n"
     ]
    }
   ],
   "source": [
    "cwd = os.getcwd()\n",
    "df = pd.read_csv(os.path.join(cwd, \"MetObjects.txt\"))\n",
    "\n",
    "mike_col_list = [i for i in range(0, df.shape[1], 3)]\n",
    "mike_df = df.iloc[:, mike_col_list]\n",
    "\n",
    "artist_col_list = list(range(16, 28)) # making list of column index from Q->AB\n",
    "artist_col_list.insert(0, 0) # Adding the first column as index\n",
    "artist_df = df.iloc[: , artist_col_list] #subsets originas dataframe 'df'\n",
    "artist_df = split_rows(artist_df)\n",
    "\n",
    "mike_artist_cols = [i for i in range(3, artist_df.shape[1], 3)]\n",
    "mike_artist_df = artist_df.iloc[:, mike_artist_cols]\n"
   ]
  },
  {
   "cell_type": "code",
   "execution_count": 13,
   "metadata": {},
   "outputs": [
    {
     "data": {
      "text/html": [
       "<div>\n",
       "<style scoped>\n",
       "    .dataframe tbody tr th:only-of-type {\n",
       "        vertical-align: middle;\n",
       "    }\n",
       "\n",
       "    .dataframe tbody tr th {\n",
       "        vertical-align: top;\n",
       "    }\n",
       "\n",
       "    .dataframe thead th {\n",
       "        text-align: right;\n",
       "    }\n",
       "</style>\n",
       "<table border=\"1\" class=\"dataframe\">\n",
       "  <thead>\n",
       "    <tr style=\"text-align: right;\">\n",
       "      <th></th>\n",
       "      <th>Artist Display Name</th>\n",
       "      <th>Artist Alpha Sort</th>\n",
       "      <th>Artist End Date</th>\n",
       "      <th>Artist Wikidata URL</th>\n",
       "    </tr>\n",
       "  </thead>\n",
       "  <tbody>\n",
       "    <tr>\n",
       "      <th>0</th>\n",
       "      <td>James Barton Longacre</td>\n",
       "      <td>Longacre, James Barton</td>\n",
       "      <td>1869</td>\n",
       "      <td>https://www.wikidata.org/wiki/Q3806459</td>\n",
       "    </tr>\n",
       "    <tr>\n",
       "      <th>1</th>\n",
       "      <td>Christian Gobrecht</td>\n",
       "      <td>Gobrecht, Christian</td>\n",
       "      <td>1844</td>\n",
       "      <td>https://www.wikidata.org/wiki/Q5109648</td>\n",
       "    </tr>\n",
       "  </tbody>\n",
       "</table>\n",
       "</div>"
      ],
      "text/plain": [
       "     Artist Display Name       Artist Alpha Sort Artist End Date  \\\n",
       "0  James Barton Longacre  Longacre, James Barton      1869         \n",
       "1     Christian Gobrecht     Gobrecht, Christian      1844         \n",
       "\n",
       "                      Artist Wikidata URL  \n",
       "0  https://www.wikidata.org/wiki/Q3806459  \n",
       "1  https://www.wikidata.org/wiki/Q5109648  "
      ]
     },
     "execution_count": 13,
     "metadata": {},
     "output_type": "execute_result"
    }
   ],
   "source": [
    "mike_artist_df.head(2)"
   ]
  },
  {
   "cell_type": "code",
   "execution_count": 20,
   "metadata": {},
   "outputs": [
    {
     "ename": "TypeError",
     "evalue": "bad operand type for unary ~: 'float'",
     "output_type": "error",
     "traceback": [
      "\u001b[1;31m---------------------------------------------------------------------------\u001b[0m",
      "\u001b[1;31mTypeError\u001b[0m                                 Traceback (most recent call last)",
      "\u001b[1;32mc:\\Users\\mschm\\Desktop\\Masters_DU\\Comp_4447\\Final_Project\\COMP4447_Project\\cleaning.ipynb Cell 4'\u001b[0m in \u001b[0;36m<cell line: 1>\u001b[1;34m()\u001b[0m\n\u001b[1;32m----> <a href='vscode-notebook-cell:/c%3A/Users/mschm/Desktop/Masters_DU/Comp_4447/Final_Project/COMP4447_Project/cleaning.ipynb#ch0000003?line=0'>1</a>\u001b[0m mike_artist_df[\u001b[39m~\u001b[39;49mmike_artist_df[\u001b[39m\"\u001b[39;49m\u001b[39mArtist End Date_clean\u001b[39;49m\u001b[39m\"\u001b[39;49m]\u001b[39m.\u001b[39;49mstr\u001b[39m.\u001b[39;49mcontains(\u001b[39m\"\u001b[39;49m\u001b[39m-?\u001b[39;49m\u001b[39m\\\u001b[39;49m\u001b[39md\u001b[39;49m\u001b[39m\\\u001b[39;49m\u001b[39md\u001b[39;49m\u001b[39m\\\u001b[39;49m\u001b[39md\u001b[39;49m\u001b[39m\\\u001b[39;49m\u001b[39md\u001b[39;49m\u001b[39m\"\u001b[39;49m, regex\u001b[39m=\u001b[39;49m\u001b[39mTrue\u001b[39;49;00m)][\u001b[39m\"\u001b[39m\u001b[39mArtist End Date_clean\u001b[39m\u001b[39m\"\u001b[39m]\u001b[39m.\u001b[39munique()\n",
      "File \u001b[1;32mc:\\Users\\mschm\\Desktop\\Masters_DU\\Comp_4447\\Final_Project\\COMP4447_Project\\proj_env\\lib\\site-packages\\pandas\\core\\generic.py:1522\u001b[0m, in \u001b[0;36mNDFrame.__invert__\u001b[1;34m(self)\u001b[0m\n\u001b[0;32m   <a href='file:///c%3A/Users/mschm/Desktop/Masters_DU/Comp_4447/Final_Project/COMP4447_Project/proj_env/lib/site-packages/pandas/core/generic.py?line=1517'>1518</a>\u001b[0m \u001b[39mif\u001b[39;00m \u001b[39mnot\u001b[39;00m \u001b[39mself\u001b[39m\u001b[39m.\u001b[39msize:\n\u001b[0;32m   <a href='file:///c%3A/Users/mschm/Desktop/Masters_DU/Comp_4447/Final_Project/COMP4447_Project/proj_env/lib/site-packages/pandas/core/generic.py?line=1518'>1519</a>\u001b[0m     \u001b[39m# inv fails with 0 len\u001b[39;00m\n\u001b[0;32m   <a href='file:///c%3A/Users/mschm/Desktop/Masters_DU/Comp_4447/Final_Project/COMP4447_Project/proj_env/lib/site-packages/pandas/core/generic.py?line=1519'>1520</a>\u001b[0m     \u001b[39mreturn\u001b[39;00m \u001b[39mself\u001b[39m\n\u001b[1;32m-> <a href='file:///c%3A/Users/mschm/Desktop/Masters_DU/Comp_4447/Final_Project/COMP4447_Project/proj_env/lib/site-packages/pandas/core/generic.py?line=1521'>1522</a>\u001b[0m new_data \u001b[39m=\u001b[39m \u001b[39mself\u001b[39;49m\u001b[39m.\u001b[39;49m_mgr\u001b[39m.\u001b[39;49mapply(operator\u001b[39m.\u001b[39;49minvert)\n\u001b[0;32m   <a href='file:///c%3A/Users/mschm/Desktop/Masters_DU/Comp_4447/Final_Project/COMP4447_Project/proj_env/lib/site-packages/pandas/core/generic.py?line=1522'>1523</a>\u001b[0m \u001b[39mreturn\u001b[39;00m \u001b[39mself\u001b[39m\u001b[39m.\u001b[39m_constructor(new_data)\u001b[39m.\u001b[39m__finalize__(\u001b[39mself\u001b[39m, method\u001b[39m=\u001b[39m\u001b[39m\"\u001b[39m\u001b[39m__invert__\u001b[39m\u001b[39m\"\u001b[39m)\n",
      "File \u001b[1;32mc:\\Users\\mschm\\Desktop\\Masters_DU\\Comp_4447\\Final_Project\\COMP4447_Project\\proj_env\\lib\\site-packages\\pandas\\core\\internals\\managers.py:302\u001b[0m, in \u001b[0;36mBaseBlockManager.apply\u001b[1;34m(self, f, align_keys, ignore_failures, **kwargs)\u001b[0m\n\u001b[0;32m    <a href='file:///c%3A/Users/mschm/Desktop/Masters_DU/Comp_4447/Final_Project/COMP4447_Project/proj_env/lib/site-packages/pandas/core/internals/managers.py?line=299'>300</a>\u001b[0m \u001b[39mtry\u001b[39;00m:\n\u001b[0;32m    <a href='file:///c%3A/Users/mschm/Desktop/Masters_DU/Comp_4447/Final_Project/COMP4447_Project/proj_env/lib/site-packages/pandas/core/internals/managers.py?line=300'>301</a>\u001b[0m     \u001b[39mif\u001b[39;00m callable(f):\n\u001b[1;32m--> <a href='file:///c%3A/Users/mschm/Desktop/Masters_DU/Comp_4447/Final_Project/COMP4447_Project/proj_env/lib/site-packages/pandas/core/internals/managers.py?line=301'>302</a>\u001b[0m         applied \u001b[39m=\u001b[39m b\u001b[39m.\u001b[39;49mapply(f, \u001b[39m*\u001b[39;49m\u001b[39m*\u001b[39;49mkwargs)\n\u001b[0;32m    <a href='file:///c%3A/Users/mschm/Desktop/Masters_DU/Comp_4447/Final_Project/COMP4447_Project/proj_env/lib/site-packages/pandas/core/internals/managers.py?line=302'>303</a>\u001b[0m     \u001b[39melse\u001b[39;00m:\n\u001b[0;32m    <a href='file:///c%3A/Users/mschm/Desktop/Masters_DU/Comp_4447/Final_Project/COMP4447_Project/proj_env/lib/site-packages/pandas/core/internals/managers.py?line=303'>304</a>\u001b[0m         applied \u001b[39m=\u001b[39m \u001b[39mgetattr\u001b[39m(b, f)(\u001b[39m*\u001b[39m\u001b[39m*\u001b[39mkwargs)\n",
      "File \u001b[1;32mc:\\Users\\mschm\\Desktop\\Masters_DU\\Comp_4447\\Final_Project\\COMP4447_Project\\proj_env\\lib\\site-packages\\pandas\\core\\internals\\blocks.py:402\u001b[0m, in \u001b[0;36mBlock.apply\u001b[1;34m(self, func, **kwargs)\u001b[0m\n\u001b[0;32m    <a href='file:///c%3A/Users/mschm/Desktop/Masters_DU/Comp_4447/Final_Project/COMP4447_Project/proj_env/lib/site-packages/pandas/core/internals/blocks.py?line=395'>396</a>\u001b[0m \u001b[39m@final\u001b[39m\n\u001b[0;32m    <a href='file:///c%3A/Users/mschm/Desktop/Masters_DU/Comp_4447/Final_Project/COMP4447_Project/proj_env/lib/site-packages/pandas/core/internals/blocks.py?line=396'>397</a>\u001b[0m \u001b[39mdef\u001b[39;00m \u001b[39mapply\u001b[39m(\u001b[39mself\u001b[39m, func, \u001b[39m*\u001b[39m\u001b[39m*\u001b[39mkwargs) \u001b[39m-\u001b[39m\u001b[39m>\u001b[39m \u001b[39mlist\u001b[39m[Block]:\n\u001b[0;32m    <a href='file:///c%3A/Users/mschm/Desktop/Masters_DU/Comp_4447/Final_Project/COMP4447_Project/proj_env/lib/site-packages/pandas/core/internals/blocks.py?line=397'>398</a>\u001b[0m     \u001b[39m\"\"\"\u001b[39;00m\n\u001b[0;32m    <a href='file:///c%3A/Users/mschm/Desktop/Masters_DU/Comp_4447/Final_Project/COMP4447_Project/proj_env/lib/site-packages/pandas/core/internals/blocks.py?line=398'>399</a>\u001b[0m \u001b[39m    apply the function to my values; return a block if we are not\u001b[39;00m\n\u001b[0;32m    <a href='file:///c%3A/Users/mschm/Desktop/Masters_DU/Comp_4447/Final_Project/COMP4447_Project/proj_env/lib/site-packages/pandas/core/internals/blocks.py?line=399'>400</a>\u001b[0m \u001b[39m    one\u001b[39;00m\n\u001b[0;32m    <a href='file:///c%3A/Users/mschm/Desktop/Masters_DU/Comp_4447/Final_Project/COMP4447_Project/proj_env/lib/site-packages/pandas/core/internals/blocks.py?line=400'>401</a>\u001b[0m \u001b[39m    \"\"\"\u001b[39;00m\n\u001b[1;32m--> <a href='file:///c%3A/Users/mschm/Desktop/Masters_DU/Comp_4447/Final_Project/COMP4447_Project/proj_env/lib/site-packages/pandas/core/internals/blocks.py?line=401'>402</a>\u001b[0m     result \u001b[39m=\u001b[39m func(\u001b[39mself\u001b[39;49m\u001b[39m.\u001b[39;49mvalues, \u001b[39m*\u001b[39;49m\u001b[39m*\u001b[39;49mkwargs)\n\u001b[0;32m    <a href='file:///c%3A/Users/mschm/Desktop/Masters_DU/Comp_4447/Final_Project/COMP4447_Project/proj_env/lib/site-packages/pandas/core/internals/blocks.py?line=403'>404</a>\u001b[0m     \u001b[39mreturn\u001b[39;00m \u001b[39mself\u001b[39m\u001b[39m.\u001b[39m_split_op_result(result)\n",
      "\u001b[1;31mTypeError\u001b[0m: bad operand type for unary ~: 'float'"
     ]
    }
   ],
   "source": [
    "mike_artist_df[~mike_artist_df[\"Artist End Date_clean\"].str.contains(\"-?\\d\\d\\d\\d\", regex=True)][\"Artist End Date_clean\"].unique()"
   ]
  },
  {
   "cell_type": "code",
   "execution_count": 19,
   "metadata": {},
   "outputs": [
    {
     "name": "stderr",
     "output_type": "stream",
     "text": [
      "C:\\Users\\mschm\\AppData\\Local\\Temp\\ipykernel_2548\\4076951623.py:1: SettingWithCopyWarning: \n",
      "A value is trying to be set on a copy of a slice from a DataFrame.\n",
      "Try using .loc[row_indexer,col_indexer] = value instead\n",
      "\n",
      "See the caveats in the documentation: https://pandas.pydata.org/pandas-docs/stable/user_guide/indexing.html#returning-a-view-versus-a-copy\n",
      "  mike_artist_df[\"Artist End Date_clean\"] = mike_artist_df[\"Artist End Date\"].str.extract(\"(-?\\d\\d\\d\\d)\")\n"
     ]
    }
   ],
   "source": [
    "mike_artist_df[\"Artist End Date_clean\"] = mike_artist_df[\"Artist End Date\"].str.extract(\"(-?\\d\\d\\d\\d)\")"
   ]
  }
 ],
 "metadata": {
  "interpreter": {
   "hash": "312b54c31e402012046b7fc9fed27eeff3e347acf23c6978896c1c7dd18591b8"
  },
  "kernelspec": {
   "display_name": "Python 3.8.8 ('proj_env': venv)",
   "language": "python",
   "name": "python3"
  },
  "language_info": {
   "codemirror_mode": {
    "name": "ipython",
    "version": 3
   },
   "file_extension": ".py",
   "mimetype": "text/x-python",
   "name": "python",
   "nbconvert_exporter": "python",
   "pygments_lexer": "ipython3",
   "version": "3.8.8"
  },
  "orig_nbformat": 4
 },
 "nbformat": 4,
 "nbformat_minor": 2
}
