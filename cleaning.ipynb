{
 "cells": [
  {
   "cell_type": "code",
   "execution_count": 30,
   "metadata": {},
   "outputs": [
    {
     "name": "stdout",
     "output_type": "stream",
     "text": [
      "The autoreload extension is already loaded. To reload it, use:\n",
      "  %reload_ext autoreload\n"
     ]
    }
   ],
   "source": [
    "%load_ext autoreload\n",
    "%autoreload 2\n",
    "import pandas as pd\n",
    "import os\n",
    "from cleaning_utils import *\n",
    "import numpy as np"
   ]
  },
  {
   "cell_type": "code",
   "execution_count": 9,
   "metadata": {},
   "outputs": [
    {
     "name": "stderr",
     "output_type": "stream",
     "text": [
      "C:\\Users\\mschm\\AppData\\Local\\Temp\\ipykernel_2548\\2169386161.py:2: DtypeWarning: Columns (5,7,10,11,12,13,14,34,35,36,37,38,39,40,41,42,43,44,45,46) have mixed types. Specify dtype option on import or set low_memory=False.\n",
      "  df = pd.read_csv(os.path.join(cwd, \"MetObjects.txt\"))\n"
     ]
    }
   ],
   "source": [
    "cwd = os.getcwd()\n",
    "df = pd.read_csv(os.path.join(cwd, \"MetObjects.txt\"))\n",
    "\n",
    "mike_col_list = [i for i in range(0, df.shape[1], 3)]\n",
    "mike_df = df.iloc[:, mike_col_list]\n",
    "\n",
    "artist_col_list = list(range(16, 28)) # making list of column index from Q->AB\n",
    "artist_col_list.insert(0, 0) # Adding the first column as index\n",
    "artist_df = df.iloc[: , artist_col_list] #subsets originas dataframe 'df'\n",
    "artist_df = split_rows(artist_df)\n",
    "\n",
    "mike_artist_cols = [i for i in range(3, artist_df.shape[1], 3)]\n",
    "mike_artist_df = artist_df.iloc[:, mike_artist_cols]\n"
   ]
  },
  {
   "cell_type": "code",
   "execution_count": 37,
   "metadata": {},
   "outputs": [
    {
     "data": {
      "text/plain": [
       "array([nan], dtype=object)"
      ]
     },
     "execution_count": 37,
     "metadata": {},
     "output_type": "execute_result"
    }
   ],
   "source": [
    "mike_artist_df[\"Artist End Date_clean\"] = mike_artist_df[\"Artist End Date\"].str.extract(\"(-?\\d\\d\\d\\d)\")\n",
    "mike_artist_df[~mike_artist_df[\"Artist End Date_clean\"].str.contains(\"-?\\d\\d\\d\\d\", regex=True).map(lambda x : False if (type(x)==float) else x)][\"Artist End Date_clean\"].unique()"
   ]
  },
  {
   "cell_type": "code",
   "execution_count": 43,
   "metadata": {},
   "outputs": [
    {
     "name": "stderr",
     "output_type": "stream",
     "text": [
      "C:\\Users\\mschm\\AppData\\Local\\Temp\\ipykernel_2548\\1901317313.py:1: SettingWithCopyWarning: \n",
      "A value is trying to be set on a copy of a slice from a DataFrame.\n",
      "Try using .loc[row_indexer,col_indexer] = value instead\n",
      "\n",
      "See the caveats in the documentation: https://pandas.pydata.org/pandas-docs/stable/user_guide/indexing.html#returning-a-view-versus-a-copy\n",
      "  mike_df[\"Dynasty_clean\"] = mike_df[\"Dynasty\"].str.extract(\"(\\d\\d)\")\n"
     ]
    },
    {
     "data": {
      "text/plain": [
       "array([nan], dtype=object)"
      ]
     },
     "execution_count": 43,
     "metadata": {},
     "output_type": "execute_result"
    }
   ],
   "source": [
    "mike_df[\"Dynasty_clean\"] = mike_df[\"Dynasty\"].str.extract(\"(\\d\\d)\")\n",
    "mike_df[~mike_df[\"Dynasty_clean\"].str.contains(\"\\d\\d\", regex=True).map(lambda x : False if (type(x)==float) else x)][\"Dynasty_clean\"].unique()"
   ]
  },
  {
   "cell_type": "code",
   "execution_count": 50,
   "metadata": {},
   "outputs": [
    {
     "name": "stderr",
     "output_type": "stream",
     "text": [
      "C:\\Users\\mschm\\AppData\\Local\\Temp\\ipykernel_2548\\1130483862.py:1: SettingWithCopyWarning: \n",
      "A value is trying to be set on a copy of a slice from a DataFrame.\n",
      "Try using .loc[row_indexer,col_indexer] = value instead\n",
      "\n",
      "See the caveats in the documentation: https://pandas.pydata.org/pandas-docs/stable/user_guide/indexing.html#returning-a-view-versus-a-copy\n",
      "  mike_df[\"Artist End Date_clean\"] = mike_df[\"Artist End Date\"].str.extract(\"(\\d\\d\\d\\d)\")\n"
     ]
    },
    {
     "data": {
      "text/plain": [
       "array([nan], dtype=object)"
      ]
     },
     "execution_count": 50,
     "metadata": {},
     "output_type": "execute_result"
    }
   ],
   "source": [
    "mike_df[\"Artist End Date_clean\"] = mike_df[\"Artist End Date\"].str.extract(\"(\\d\\d\\d\\d)\")\n",
    "mike_df[~mike_df[\"Artist End Date_clean\"].str.contains(\"\\d\\d\\d\\d\", regex=True).map(lambda x : False if (type(x)==float) else x)][\"Artist End Date_clean\"].unique()"
   ]
  },
  {
   "cell_type": "code",
   "execution_count": null,
   "metadata": {},
   "outputs": [],
   "source": [
    "#made it up to credit line. Start with credit line and move right through columns"
   ]
  },
  {
   "cell_type": "code",
   "execution_count": 40,
   "metadata": {},
   "outputs": [
    {
     "data": {
      "text/html": [
       "<div>\n",
       "<style scoped>\n",
       "    .dataframe tbody tr th:only-of-type {\n",
       "        vertical-align: middle;\n",
       "    }\n",
       "\n",
       "    .dataframe tbody tr th {\n",
       "        vertical-align: top;\n",
       "    }\n",
       "\n",
       "    .dataframe thead th {\n",
       "        text-align: right;\n",
       "    }\n",
       "</style>\n",
       "<table border=\"1\" class=\"dataframe\">\n",
       "  <thead>\n",
       "    <tr style=\"text-align: right;\">\n",
       "      <th></th>\n",
       "      <th>Object Number</th>\n",
       "      <th>Is Public Domain</th>\n",
       "      <th>Department</th>\n",
       "      <th>Title</th>\n",
       "      <th>Dynasty</th>\n",
       "      <th>Constituent ID</th>\n",
       "      <th>Artist Display Name</th>\n",
       "      <th>Artist Alpha Sort</th>\n",
       "      <th>Artist End Date</th>\n",
       "      <th>Artist Wikidata URL</th>\n",
       "      <th>Object End Date</th>\n",
       "      <th>Credit Line</th>\n",
       "      <th>State</th>\n",
       "      <th>Region</th>\n",
       "      <th>Locus</th>\n",
       "      <th>Classification</th>\n",
       "      <th>Object Wikidata URL</th>\n",
       "      <th>Tags</th>\n",
       "    </tr>\n",
       "  </thead>\n",
       "  <tbody>\n",
       "    <tr>\n",
       "      <th>0</th>\n",
       "      <td>1979.486.1</td>\n",
       "      <td>False</td>\n",
       "      <td>The American Wing</td>\n",
       "      <td>One-dollar Liberty Head Coin</td>\n",
       "      <td>NaN</td>\n",
       "      <td>16429</td>\n",
       "      <td>James Barton Longacre</td>\n",
       "      <td>Longacre, James Barton</td>\n",
       "      <td>1869</td>\n",
       "      <td>https://www.wikidata.org/wiki/Q3806459</td>\n",
       "      <td>1853</td>\n",
       "      <td>Gift of Heinz L. Stoppelmann, 1979</td>\n",
       "      <td>NaN</td>\n",
       "      <td>NaN</td>\n",
       "      <td>NaN</td>\n",
       "      <td>NaN</td>\n",
       "      <td>NaN</td>\n",
       "      <td>NaN</td>\n",
       "    </tr>\n",
       "    <tr>\n",
       "      <th>1</th>\n",
       "      <td>1980.264.5</td>\n",
       "      <td>False</td>\n",
       "      <td>The American Wing</td>\n",
       "      <td>Ten-dollar Liberty Head Coin</td>\n",
       "      <td>NaN</td>\n",
       "      <td>107</td>\n",
       "      <td>Christian Gobrecht</td>\n",
       "      <td>Gobrecht, Christian</td>\n",
       "      <td>1844</td>\n",
       "      <td>https://www.wikidata.org/wiki/Q5109648</td>\n",
       "      <td>1901</td>\n",
       "      <td>Gift of Heinz L. Stoppelmann, 1980</td>\n",
       "      <td>NaN</td>\n",
       "      <td>NaN</td>\n",
       "      <td>NaN</td>\n",
       "      <td>NaN</td>\n",
       "      <td>NaN</td>\n",
       "      <td>NaN</td>\n",
       "    </tr>\n",
       "  </tbody>\n",
       "</table>\n",
       "</div>"
      ],
      "text/plain": [
       "  Object Number  Is Public Domain         Department  \\\n",
       "0    1979.486.1             False  The American Wing   \n",
       "1    1980.264.5             False  The American Wing   \n",
       "\n",
       "                          Title Dynasty Constituent ID    Artist Display Name  \\\n",
       "0  One-dollar Liberty Head Coin     NaN          16429  James Barton Longacre   \n",
       "1  Ten-dollar Liberty Head Coin     NaN            107     Christian Gobrecht   \n",
       "\n",
       "        Artist Alpha Sort Artist End Date  \\\n",
       "0  Longacre, James Barton      1869         \n",
       "1     Gobrecht, Christian      1844         \n",
       "\n",
       "                      Artist Wikidata URL  Object End Date  \\\n",
       "0  https://www.wikidata.org/wiki/Q3806459             1853   \n",
       "1  https://www.wikidata.org/wiki/Q5109648             1901   \n",
       "\n",
       "                          Credit Line State Region Locus Classification  \\\n",
       "0  Gift of Heinz L. Stoppelmann, 1979   NaN    NaN   NaN            NaN   \n",
       "1  Gift of Heinz L. Stoppelmann, 1980   NaN    NaN   NaN            NaN   \n",
       "\n",
       "  Object Wikidata URL Tags  \n",
       "0                 NaN  NaN  \n",
       "1                 NaN  NaN  "
      ]
     },
     "execution_count": 40,
     "metadata": {},
     "output_type": "execute_result"
    }
   ],
   "source": [
    "mike_df.head(2)"
   ]
  }
 ],
 "metadata": {
  "interpreter": {
   "hash": "312b54c31e402012046b7fc9fed27eeff3e347acf23c6978896c1c7dd18591b8"
  },
  "kernelspec": {
   "display_name": "Python 3.8.8 ('proj_env': venv)",
   "language": "python",
   "name": "python3"
  },
  "language_info": {
   "codemirror_mode": {
    "name": "ipython",
    "version": 3
   },
   "file_extension": ".py",
   "mimetype": "text/x-python",
   "name": "python",
   "nbconvert_exporter": "python",
   "pygments_lexer": "ipython3",
   "version": "3.8.8"
  },
  "orig_nbformat": 4
 },
 "nbformat": 4,
 "nbformat_minor": 2
}
