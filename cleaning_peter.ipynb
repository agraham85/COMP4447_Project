{
 "cells": [
  {
   "cell_type": "code",
   "execution_count": 173,
   "metadata": {},
   "outputs": [
    {
     "name": "stdout",
     "output_type": "stream",
     "text": [
      "The autoreload extension is already loaded. To reload it, use:\n",
      "  %reload_ext autoreload\n"
     ]
    }
   ],
   "source": [
    "%load_ext autoreload\n",
    "%autoreload 2\n",
    "import pandas as pd\n",
    "import os\n",
    "from cleaning_utils import *\n",
    "import numpy as np\n",
    "\n",
    "from wordcloud import WordCloud\n",
    "from wordcloud import ImageColorGenerator\n",
    "from wordcloud import STOPWORDS\n",
    "import matplotlib.pyplot as plt\n",
    "from PIL import Image\n"
   ]
  },
  {
   "cell_type": "code",
   "execution_count": 28,
   "metadata": {},
   "outputs": [],
   "source": [
    "def lines_to_words(lines):\n",
    "    words = []\n",
    "    for line in lines:\n",
    "        for word in str(line).split():\n",
    "            words.append(word)\n",
    "    return words"
   ]
  },
  {
   "cell_type": "code",
   "execution_count": 171,
   "metadata": {},
   "outputs": [
    {
     "name": "stderr",
     "output_type": "stream",
     "text": [
      "/var/folders/gw/nk95rbjx5zq50kh26yn5q0mr0000gn/T/ipykernel_27493/688868330.py:3: DtypeWarning: Columns (5,7,10,11,12,13,14,34,35,36,37,38,39,40,41,42,43,44,45,46) have mixed types. Specify dtype option on import or set low_memory=False.\n",
      "  df = pd.read_csv(os.path.join(cwd, 'MetObjects.txt'))\n"
     ]
    }
   ],
   "source": [
    "cwd = os.getcwd()\n",
    "# cwd\n",
    "df = pd.read_csv(os.path.join(cwd, 'MetObjects.txt'))"
   ]
  },
  {
   "cell_type": "code",
   "execution_count": 7,
   "metadata": {},
   "outputs": [],
   "source": [
    "peter_col_list = [i for i in range(1, df.shape[1], 3)]\n",
    "peter_df = df.iloc[:, peter_col_list]\n",
    "peter_df = peter_df.astype(str, errors=\"ignore\")\n"
   ]
  },
  {
   "cell_type": "code",
   "execution_count": 12,
   "metadata": {},
   "outputs": [
    {
     "data": {
      "text/html": [
       "<div>\n",
       "<style scoped>\n",
       "    .dataframe tbody tr th:only-of-type {\n",
       "        vertical-align: middle;\n",
       "    }\n",
       "\n",
       "    .dataframe tbody tr th {\n",
       "        vertical-align: top;\n",
       "    }\n",
       "\n",
       "    .dataframe thead th {\n",
       "        text-align: right;\n",
       "    }\n",
       "</style>\n",
       "<table border=\"1\" class=\"dataframe\">\n",
       "  <thead>\n",
       "    <tr style=\"text-align: right;\">\n",
       "      <th></th>\n",
       "      <th>Is Highlight</th>\n",
       "      <th>Object ID</th>\n",
       "      <th>AccessionYear</th>\n",
       "      <th>Culture</th>\n",
       "      <th>Reign</th>\n",
       "      <th>Artist Role</th>\n",
       "      <th>Artist Display Bio</th>\n",
       "      <th>Artist Nationality</th>\n",
       "      <th>Artist Gender</th>\n",
       "      <th>Object Date</th>\n",
       "      <th>Medium</th>\n",
       "      <th>Geography Type</th>\n",
       "      <th>County</th>\n",
       "      <th>Subregion</th>\n",
       "      <th>Excavation</th>\n",
       "      <th>Rights and Reproduction</th>\n",
       "      <th>Metadata Date</th>\n",
       "      <th>Tags AAT URL</th>\n",
       "    </tr>\n",
       "  </thead>\n",
       "  <tbody>\n",
       "    <tr>\n",
       "      <th>0</th>\n",
       "      <td>False</td>\n",
       "      <td>1</td>\n",
       "      <td>1979.0</td>\n",
       "      <td>nan</td>\n",
       "      <td>nan</td>\n",
       "      <td>Maker</td>\n",
       "      <td>American, Delaware County, Pennsylvania 1794–1...</td>\n",
       "      <td>American</td>\n",
       "      <td>nan</td>\n",
       "      <td>1853</td>\n",
       "      <td>Gold</td>\n",
       "      <td>nan</td>\n",
       "      <td>nan</td>\n",
       "      <td>nan</td>\n",
       "      <td>nan</td>\n",
       "      <td>nan</td>\n",
       "      <td>nan</td>\n",
       "      <td>nan</td>\n",
       "    </tr>\n",
       "    <tr>\n",
       "      <th>1</th>\n",
       "      <td>False</td>\n",
       "      <td>2</td>\n",
       "      <td>1980.0</td>\n",
       "      <td>nan</td>\n",
       "      <td>nan</td>\n",
       "      <td>Maker</td>\n",
       "      <td>1785–1844</td>\n",
       "      <td></td>\n",
       "      <td>nan</td>\n",
       "      <td>1901</td>\n",
       "      <td>Gold</td>\n",
       "      <td>nan</td>\n",
       "      <td>nan</td>\n",
       "      <td>nan</td>\n",
       "      <td>nan</td>\n",
       "      <td>nan</td>\n",
       "      <td>nan</td>\n",
       "      <td>nan</td>\n",
       "    </tr>\n",
       "    <tr>\n",
       "      <th>2</th>\n",
       "      <td>False</td>\n",
       "      <td>3</td>\n",
       "      <td>1967.0</td>\n",
       "      <td>nan</td>\n",
       "      <td>nan</td>\n",
       "      <td>nan</td>\n",
       "      <td>nan</td>\n",
       "      <td>nan</td>\n",
       "      <td>nan</td>\n",
       "      <td>1909–27</td>\n",
       "      <td>Gold</td>\n",
       "      <td>nan</td>\n",
       "      <td>nan</td>\n",
       "      <td>nan</td>\n",
       "      <td>nan</td>\n",
       "      <td>nan</td>\n",
       "      <td>nan</td>\n",
       "      <td>nan</td>\n",
       "    </tr>\n",
       "    <tr>\n",
       "      <th>3</th>\n",
       "      <td>False</td>\n",
       "      <td>4</td>\n",
       "      <td>1967.0</td>\n",
       "      <td>nan</td>\n",
       "      <td>nan</td>\n",
       "      <td>nan</td>\n",
       "      <td>nan</td>\n",
       "      <td>nan</td>\n",
       "      <td>nan</td>\n",
       "      <td>1909–27</td>\n",
       "      <td>Gold</td>\n",
       "      <td>nan</td>\n",
       "      <td>nan</td>\n",
       "      <td>nan</td>\n",
       "      <td>nan</td>\n",
       "      <td>nan</td>\n",
       "      <td>nan</td>\n",
       "      <td>nan</td>\n",
       "    </tr>\n",
       "    <tr>\n",
       "      <th>4</th>\n",
       "      <td>False</td>\n",
       "      <td>5</td>\n",
       "      <td>1967.0</td>\n",
       "      <td>nan</td>\n",
       "      <td>nan</td>\n",
       "      <td>nan</td>\n",
       "      <td>nan</td>\n",
       "      <td>nan</td>\n",
       "      <td>nan</td>\n",
       "      <td>1909–27</td>\n",
       "      <td>Gold</td>\n",
       "      <td>nan</td>\n",
       "      <td>nan</td>\n",
       "      <td>nan</td>\n",
       "      <td>nan</td>\n",
       "      <td>nan</td>\n",
       "      <td>nan</td>\n",
       "      <td>nan</td>\n",
       "    </tr>\n",
       "    <tr>\n",
       "      <th>5</th>\n",
       "      <td>False</td>\n",
       "      <td>6</td>\n",
       "      <td>1967.0</td>\n",
       "      <td>nan</td>\n",
       "      <td>nan</td>\n",
       "      <td>nan</td>\n",
       "      <td>nan</td>\n",
       "      <td>nan</td>\n",
       "      <td>nan</td>\n",
       "      <td>1909–27</td>\n",
       "      <td>Gold</td>\n",
       "      <td>nan</td>\n",
       "      <td>nan</td>\n",
       "      <td>nan</td>\n",
       "      <td>nan</td>\n",
       "      <td>nan</td>\n",
       "      <td>nan</td>\n",
       "      <td>nan</td>\n",
       "    </tr>\n",
       "    <tr>\n",
       "      <th>6</th>\n",
       "      <td>False</td>\n",
       "      <td>7</td>\n",
       "      <td>1967.0</td>\n",
       "      <td>nan</td>\n",
       "      <td>nan</td>\n",
       "      <td>nan</td>\n",
       "      <td>nan</td>\n",
       "      <td>nan</td>\n",
       "      <td>nan</td>\n",
       "      <td>1909–27</td>\n",
       "      <td>Gold</td>\n",
       "      <td>nan</td>\n",
       "      <td>nan</td>\n",
       "      <td>nan</td>\n",
       "      <td>nan</td>\n",
       "      <td>nan</td>\n",
       "      <td>nan</td>\n",
       "      <td>http://vocab.getty.edu/page/aat/300266506|http...</td>\n",
       "    </tr>\n",
       "    <tr>\n",
       "      <th>7</th>\n",
       "      <td>False</td>\n",
       "      <td>8</td>\n",
       "      <td>1967.0</td>\n",
       "      <td>nan</td>\n",
       "      <td>nan</td>\n",
       "      <td>nan</td>\n",
       "      <td>nan</td>\n",
       "      <td>nan</td>\n",
       "      <td>nan</td>\n",
       "      <td>1909–27</td>\n",
       "      <td>Gold</td>\n",
       "      <td>nan</td>\n",
       "      <td>nan</td>\n",
       "      <td>nan</td>\n",
       "      <td>nan</td>\n",
       "      <td>nan</td>\n",
       "      <td>nan</td>\n",
       "      <td>http://vocab.getty.edu/page/aat/300250049|http...</td>\n",
       "    </tr>\n",
       "    <tr>\n",
       "      <th>8</th>\n",
       "      <td>False</td>\n",
       "      <td>9</td>\n",
       "      <td>1967.0</td>\n",
       "      <td>nan</td>\n",
       "      <td>nan</td>\n",
       "      <td>nan</td>\n",
       "      <td>nan</td>\n",
       "      <td>nan</td>\n",
       "      <td>nan</td>\n",
       "      <td>1909–27</td>\n",
       "      <td>Gold</td>\n",
       "      <td>nan</td>\n",
       "      <td>nan</td>\n",
       "      <td>nan</td>\n",
       "      <td>nan</td>\n",
       "      <td>nan</td>\n",
       "      <td>nan</td>\n",
       "      <td>nan</td>\n",
       "    </tr>\n",
       "    <tr>\n",
       "      <th>9</th>\n",
       "      <td>False</td>\n",
       "      <td>10</td>\n",
       "      <td>1979.0</td>\n",
       "      <td>nan</td>\n",
       "      <td>nan</td>\n",
       "      <td>Maker</td>\n",
       "      <td>1867–1917</td>\n",
       "      <td></td>\n",
       "      <td>nan</td>\n",
       "      <td>1912</td>\n",
       "      <td>Gold</td>\n",
       "      <td>nan</td>\n",
       "      <td>nan</td>\n",
       "      <td>nan</td>\n",
       "      <td>nan</td>\n",
       "      <td>nan</td>\n",
       "      <td>nan</td>\n",
       "      <td>nan</td>\n",
       "    </tr>\n",
       "  </tbody>\n",
       "</table>\n",
       "</div>"
      ],
      "text/plain": [
       "  Is Highlight Object ID AccessionYear Culture Reign Artist Role  \\\n",
       "0        False         1        1979.0     nan   nan       Maker   \n",
       "1        False         2        1980.0     nan   nan       Maker   \n",
       "2        False         3        1967.0     nan   nan         nan   \n",
       "3        False         4        1967.0     nan   nan         nan   \n",
       "4        False         5        1967.0     nan   nan         nan   \n",
       "5        False         6        1967.0     nan   nan         nan   \n",
       "6        False         7        1967.0     nan   nan         nan   \n",
       "7        False         8        1967.0     nan   nan         nan   \n",
       "8        False         9        1967.0     nan   nan         nan   \n",
       "9        False        10        1979.0     nan   nan       Maker   \n",
       "\n",
       "                                  Artist Display Bio Artist Nationality  \\\n",
       "0  American, Delaware County, Pennsylvania 1794–1...           American   \n",
       "1                                          1785–1844                      \n",
       "2                                                nan                nan   \n",
       "3                                                nan                nan   \n",
       "4                                                nan                nan   \n",
       "5                                                nan                nan   \n",
       "6                                                nan                nan   \n",
       "7                                                nan                nan   \n",
       "8                                                nan                nan   \n",
       "9                                          1867–1917                      \n",
       "\n",
       "  Artist Gender Object Date Medium Geography Type County Subregion Excavation  \\\n",
       "0           nan        1853   Gold            nan    nan       nan        nan   \n",
       "1           nan        1901   Gold            nan    nan       nan        nan   \n",
       "2           nan     1909–27   Gold            nan    nan       nan        nan   \n",
       "3           nan     1909–27   Gold            nan    nan       nan        nan   \n",
       "4           nan     1909–27   Gold            nan    nan       nan        nan   \n",
       "5           nan     1909–27   Gold            nan    nan       nan        nan   \n",
       "6           nan     1909–27   Gold            nan    nan       nan        nan   \n",
       "7           nan     1909–27   Gold            nan    nan       nan        nan   \n",
       "8           nan     1909–27   Gold            nan    nan       nan        nan   \n",
       "9           nan        1912   Gold            nan    nan       nan        nan   \n",
       "\n",
       "  Rights and Reproduction Metadata Date  \\\n",
       "0                     nan           nan   \n",
       "1                     nan           nan   \n",
       "2                     nan           nan   \n",
       "3                     nan           nan   \n",
       "4                     nan           nan   \n",
       "5                     nan           nan   \n",
       "6                     nan           nan   \n",
       "7                     nan           nan   \n",
       "8                     nan           nan   \n",
       "9                     nan           nan   \n",
       "\n",
       "                                        Tags AAT URL  \n",
       "0                                                nan  \n",
       "1                                                nan  \n",
       "2                                                nan  \n",
       "3                                                nan  \n",
       "4                                                nan  \n",
       "5                                                nan  \n",
       "6  http://vocab.getty.edu/page/aat/300266506|http...  \n",
       "7  http://vocab.getty.edu/page/aat/300250049|http...  \n",
       "8                                                nan  \n",
       "9                                                nan  "
      ]
     },
     "execution_count": 12,
     "metadata": {},
     "output_type": "execute_result"
    }
   ],
   "source": [
    "peter_df.head(10)\n"
   ]
  },
  {
   "cell_type": "code",
   "execution_count": 8,
   "metadata": {},
   "outputs": [
    {
     "data": {
      "text/html": [
       "<div>\n",
       "<style scoped>\n",
       "    .dataframe tbody tr th:only-of-type {\n",
       "        vertical-align: middle;\n",
       "    }\n",
       "\n",
       "    .dataframe tbody tr th {\n",
       "        vertical-align: top;\n",
       "    }\n",
       "\n",
       "    .dataframe thead th {\n",
       "        text-align: right;\n",
       "    }\n",
       "</style>\n",
       "<table border=\"1\" class=\"dataframe\">\n",
       "  <thead>\n",
       "    <tr style=\"text-align: right;\">\n",
       "      <th></th>\n",
       "      <th>0</th>\n",
       "    </tr>\n",
       "  </thead>\n",
       "  <tbody>\n",
       "    <tr>\n",
       "      <th>0</th>\n",
       "      <td>Is Highlight</td>\n",
       "    </tr>\n",
       "    <tr>\n",
       "      <th>1</th>\n",
       "      <td>Object ID</td>\n",
       "    </tr>\n",
       "    <tr>\n",
       "      <th>2</th>\n",
       "      <td>AccessionYear</td>\n",
       "    </tr>\n",
       "    <tr>\n",
       "      <th>3</th>\n",
       "      <td>Culture</td>\n",
       "    </tr>\n",
       "    <tr>\n",
       "      <th>4</th>\n",
       "      <td>Reign</td>\n",
       "    </tr>\n",
       "    <tr>\n",
       "      <th>5</th>\n",
       "      <td>Artist Role</td>\n",
       "    </tr>\n",
       "    <tr>\n",
       "      <th>6</th>\n",
       "      <td>Artist Display Bio</td>\n",
       "    </tr>\n",
       "    <tr>\n",
       "      <th>7</th>\n",
       "      <td>Artist Nationality</td>\n",
       "    </tr>\n",
       "    <tr>\n",
       "      <th>8</th>\n",
       "      <td>Artist Gender</td>\n",
       "    </tr>\n",
       "    <tr>\n",
       "      <th>9</th>\n",
       "      <td>Object Date</td>\n",
       "    </tr>\n",
       "    <tr>\n",
       "      <th>10</th>\n",
       "      <td>Medium</td>\n",
       "    </tr>\n",
       "    <tr>\n",
       "      <th>11</th>\n",
       "      <td>Geography Type</td>\n",
       "    </tr>\n",
       "    <tr>\n",
       "      <th>12</th>\n",
       "      <td>County</td>\n",
       "    </tr>\n",
       "    <tr>\n",
       "      <th>13</th>\n",
       "      <td>Subregion</td>\n",
       "    </tr>\n",
       "    <tr>\n",
       "      <th>14</th>\n",
       "      <td>Excavation</td>\n",
       "    </tr>\n",
       "    <tr>\n",
       "      <th>15</th>\n",
       "      <td>Rights and Reproduction</td>\n",
       "    </tr>\n",
       "    <tr>\n",
       "      <th>16</th>\n",
       "      <td>Metadata Date</td>\n",
       "    </tr>\n",
       "    <tr>\n",
       "      <th>17</th>\n",
       "      <td>Tags AAT URL</td>\n",
       "    </tr>\n",
       "  </tbody>\n",
       "</table>\n",
       "</div>"
      ],
      "text/plain": [
       "                          0\n",
       "0              Is Highlight\n",
       "1                 Object ID\n",
       "2             AccessionYear\n",
       "3                   Culture\n",
       "4                     Reign\n",
       "5               Artist Role\n",
       "6        Artist Display Bio\n",
       "7        Artist Nationality\n",
       "8             Artist Gender\n",
       "9               Object Date\n",
       "10                   Medium\n",
       "11           Geography Type\n",
       "12                   County\n",
       "13                Subregion\n",
       "14               Excavation\n",
       "15  Rights and Reproduction\n",
       "16            Metadata Date\n",
       "17             Tags AAT URL"
      ]
     },
     "execution_count": 8,
     "metadata": {},
     "output_type": "execute_result"
    }
   ],
   "source": [
    "pd.DataFrame(peter_df.columns)"
   ]
  },
  {
   "cell_type": "code",
   "execution_count": null,
   "metadata": {},
   "outputs": [],
   "source": [
    "for col in peter_df.columns:\n",
    "    unique_values = peter_df[col].unique()\n",
    "    print('---------')\n",
    "    print(col,unique_values)"
   ]
  },
  {
   "cell_type": "code",
   "execution_count": 19,
   "metadata": {},
   "outputs": [],
   "source": [
    "df_clean = df.copy()"
   ]
  },
  {
   "cell_type": "markdown",
   "metadata": {},
   "source": [
    "# Column Types / Range / Cleaning Tasks\n",
    "#### Is Highlight \n",
    "- bool\n",
    "- True/False only \n",
    "- No cleanup, ok as-is\n",
    "#### Object ID\n",
    "- int64\n",
    "- 1 through 860873\n",
    "- No cleanup, ok as-is\n"
   ]
  },
  {
   "cell_type": "markdown",
   "metadata": {},
   "source": [
    "#### AccessionYear\n",
    "- 4 digit year\n",
    "- Ex: nan, 1889.0, 1928, 19171917.0, 1956-08-24\n",
    "- Clean: keep only first 4 digits will fix all 4 issues"
   ]
  },
  {
   "cell_type": "code",
   "execution_count": 111,
   "metadata": {},
   "outputs": [],
   "source": [
    "df_clean['AccessionYear'] = df_clean['AccessionYear'].str[:4]\n",
    "#df_clean['AccessionYear'].dropna()\n"
   ]
  },
  {
   "cell_type": "code",
   "execution_count": 110,
   "metadata": {},
   "outputs": [
    {
     "data": {
      "text/plain": [
       "<AxesSubplot:xlabel='AccessionYear'>"
      ]
     },
     "execution_count": 110,
     "metadata": {},
     "output_type": "execute_result"
    },
    {
     "data": {
      "image/png": "[encoded data removed]",
      "text/plain": [
       "<Figure size 432x288 with 1 Axes>"
      ]
     },
     "metadata": {
      "needs_background": "light"
     },
     "output_type": "display_data"
    }
   ],
   "source": [
    "# plot accession years\n",
    "counts = df_clean['AccessionYear'].dropna().groupby([df['AccessionYear']]).count()\n",
    "# counts.sort_values()\n",
    "counts.plot(rot=45)"
   ]
  },
  {
   "cell_type": "markdown",
   "metadata": {},
   "source": [
    "#### Culture\n",
    "- category\n",
    "- Ex: nan, 'reign of Amenhotep III', 'reign of  Xerxes I'\n",
    "- remove duplicate spaces\n",
    "- possibly remove 'reign of', 'reigns of', 'or later', 'possibly', 'or slightly later', ',early', ',probably', (anything after comma), (anything in parens), (question marks), (space at end), (split on slash,dash/'and'/'or' and process individually), 'to xyz' and group by remaining names"
   ]
  },
  {
   "cell_type": "code",
   "execution_count": 100,
   "metadata": {},
   "outputs": [],
   "source": [
    "df_clean['Culture'].astype(str)\n",
    "df_clean['Culture'].replace('reign. of', '', regex=True, inplace=True)\n",
    "df_clean['Culture'].replace('or.*later', '', regex=True, inplace=True)\n",
    "df_clean['Culture'].replace('early', '', regex=False, inplace=True)\n",
    "df_clean['Culture'].replace('or', '', regex=False, inplace=True)\n",
    "df_clean['Culture'].replace('probably', '', regex=False, inplace=True)\n",
    "df_clean['Culture'].replace('possibly', '', regex=False, inplace=True)\n",
    "df_clean['Culture'].replace('Possibly', '', regex=False, inplace=True)\n",
    "df_clean['Culture'].replace(';', '', regex=False, inplace=True)\n",
    "df_clean['Culture'].replace('\\(.*\\)', '', regex=True, inplace=True)\n",
    "df_clean['Culture'].replace('\\?', '', regex=True, inplace=True)\n",
    "df_clean['Culture'] = df_clean['Culture'].dropna().str.strip()\n",
    "df_clean['Culture'] = df_clean['Culture'].dropna().str.lower()\n",
    "# for culture in df_clean['Culture'].unique():\n",
    "#     print(culture)\n"
   ]
  },
  {
   "cell_type": "code",
   "execution_count": 183,
   "metadata": {},
   "outputs": [
    {
     "data": {
      "image/png": "[encoded data removed]",
      "text/plain": [
       "<Figure size 432x288 with 1 Axes>"
      ]
     },
     "metadata": {
      "needs_background": "light"
     },
     "output_type": "display_data"
    }
   ],
   "source": [
    "# generate a WordCloud for \"Culture\"\n",
    "\n",
    "stopwords = set(STOPWORDS)\n",
    "\n",
    "word_list = lines_to_words(df_clean['Culture'].dropna().tolist())\n",
    "\n",
    "for i in range(len(word_list)):\n",
    "    word_list[i] = word_list[i].lower()\n",
    "\n",
    "word_string = ''\n",
    "word_string += \" \".join(word_list)+\" \"\n",
    "\n",
    "# wordcloud = WordCloud(collocations=False, width=800, height=800, background_color='white', stopwords=stopwords, min_font_size=10).generate(word_string)\n",
    "# plt.figure(figsize=(10,10), dpi=100)\n",
    "# plt.imshow(wordcloud, interpolation='bilinear')\n",
    "# plt.axis(\"off\")\n",
    "# plt.tight_layout(pad=0)\n",
    "\n",
    "du_mask = np.array(Image.open('University-of-Denver-logo.png'))\n",
    "colors = ImageColorGenerator(du_mask)\n",
    "wordcloud = WordCloud(collocations=False, stopwords=stopwords, mask=du_mask, mode='RGB', background_color=None, color_func=colors).generate_from_text(word_string)\n",
    "plt.figure(figsize=(15,15))\n",
    "plt.imshow(wordcloud)\n",
    "plt.axis('off')\n",
    "# plt.title('')\n",
    "plt.show()"
   ]
  },
  {
   "cell_type": "markdown",
   "metadata": {},
   "source": [
    "#### Artist Role\n",
    "- object\n",
    "- Ex: 'nan', 'Maker', 'Designer|Manufacturer'\n",
    "- Clean: split on vert bar?"
   ]
  },
  {
   "cell_type": "code",
   "execution_count": 148,
   "metadata": {},
   "outputs": [
    {
     "data": {
      "text/plain": [
       "<AxesSubplot:xlabel='Artist Role'>"
      ]
     },
     "execution_count": 148,
     "metadata": {},
     "output_type": "execute_result"
    },
    {
     "data": {
      "image/png": "[encoded data removed]",
      "text/plain": [
       "<Figure size 432x288 with 1 Axes>"
      ]
     },
     "metadata": {
      "needs_background": "light"
     },
     "output_type": "display_data"
    }
   ],
   "source": [
    "artist_roles = lines_to_words(df_clean['Artist Role'].dropna().tolist())\n",
    "artist_roles_clean = []\n",
    "for i in range(len(artist_roles)):\n",
    "    artist_roles_clean.extend(artist_roles[i].lower().split('|'))\n",
    "\n",
    "artist_roles_df = pd.DataFrame(artist_roles_clean, columns=['Artist Role'])\n",
    "\n",
    "#calculate sum of values by group\n",
    "df_groups = artist_roles_df.groupby(['Artist Role'])['Artist Role'].sum()\n",
    "\n",
    "artist_roles_df = artist_roles_df['Artist Role'].dropna().groupby([artist_roles_df['Artist Role']]).count().reset_index(name='counts')\n",
    "artist_roles_df['percentage'] = artist_roles_df['counts'] / artist_roles_df['counts'].sum()\n",
    "top10 = artist_roles_df.sort_values(by='counts', ascending=False).head(10)\n",
    "top10.plot.bar(x='Artist Role',y='percentage', rot=90)"
   ]
  },
  {
   "cell_type": "markdown",
   "metadata": {},
   "source": [
    "#### Artist Display Bio\n",
    "- object\n",
    "- Ex: '1785–1844', 'nan', 'British, London 1873–1952 Hailsham, Sussex|British, Wiltshire 1877–1952 Oxford', '||||Female|Female'\n",
    "- Issues: not sure what the vert bars separate\n",
    "- None - don't use or use as-is"
   ]
  },
  {
   "cell_type": "markdown",
   "metadata": {},
   "source": [
    "#### Object Date\n",
    "- Numeric\n",
    "- Ex: '1853', '1901', '1909–27', '1782-1784', 'December 1, 1925', 'after 1773'\n",
    "- Clean: select first 4 digit number"
   ]
  },
  {
   "cell_type": "code",
   "execution_count": 168,
   "metadata": {},
   "outputs": [
    {
     "data": {
      "text/plain": [
       "<AxesSubplot:xlabel='Object Date'>"
      ]
     },
     "execution_count": 168,
     "metadata": {},
     "output_type": "execute_result"
    },
    {
     "data": {
      "image/png": "[encoded data removed]",
      "text/plain": [
       "<Figure size 432x288 with 1 Axes>"
      ]
     },
     "metadata": {
      "needs_background": "light"
     },
     "output_type": "display_data"
    }
   ],
   "source": [
    "df_clean['Object Date'] = df_clean['Object Date'].str.extract('([0-9]{4})')\n",
    "object_dates_df = df_clean['Object Date'].dropna().groupby([df_clean['Object Date']]).count().reset_index(name='count')\n",
    "\n",
    "object_dates_df.plot(kind='line',x='Object Date', y='count')"
   ]
  },
  {
   "cell_type": "markdown",
   "metadata": {},
   "source": [
    "\n",
    "#### Medium\n",
    "- object\n",
    "- Ex: 'Gold' 'Silver' 'Bronze or copper' ...\n",
    " 'Overlay  for 23.112.2889,  graphite and ink on glazed linen tracing paper'\n",
    " - Don't use or use as-is\n",
    " #### Geography Type\n",
    " - object\n",
    " - Ex: 'nan' 'Made in' 'Probably made in' 'Possibly made in|Possibly made in'\n",
    " 'Made in|Probably made in' 'Possibly made in' 'Made in|Made in'\n",
    " 'Probably made in|Possibly made in' '(none assigned)'\n",
    " 'Made in|Possibly made in' 'Made in|Probably made in|Probably made in'\n",
    " 'Made in|Object place' 'Made in|(none assigned)'\n",
    " 'Possibly made in|Possibly made in|Possibly made in'\n",
    " 'Possibly made in|Probably made in'\n",
    " - Issues: not sure why multiple entries\n",
    " #### County\n",
    " - object\n",
    " - Ex: 'nan' 'Staffordshire' 'Bristol' ... 'Rhode Island' \n",
    " - Clean: Could group/count words\n",
    " #### Subregion\n",
    " - object\n",
    " - Ex: 'Borsippa (Birs Nimrud)' 'probably from Sippar (modern Tell Abu Habba)'\n",
    " 'Nimrud (ancient Kalhu)' 'Sippar (?) (modern Tell Abu Habba)'\n",
    " - Clean: could group and count words, drop probably, from, to, be, etc.. (maybe join with County)\n",
    " #### Excavation\n",
    " - object\n",
    " - Ex: 'nan' 'Egyptian Antiquities Service excavations, 1891'\n",
    " 'Barsanti excavations, 1903' 'Carnarvon/Carter excavations, 1910'\n",
    " - Clean: maybe pull and group 4-digit dates\n",
    "#### Rights and Reproduction\n",
    "- object\n",
    "- Ex: 'nan' '© 2022 Artists Rights Society (ARS), New York' '© Tao Lengyue' ... '© Kim Hyunju' '© Kim Seol' '© Sohn Daehyun'\n",
    "- Clean: ???\n",
    "#### Metadata Date\n",
    "- empty\n",
    "- Ex: 'nan' (for all records)\n",
    "- Clean: none\n",
    "#### Tags AAT URL\n",
    "- object\n",
    "- Ex: 'http://vocab.getty.edu/page/aat/300266506|http://vocab.getty.edu/page/aat/300037222'\n",
    " 'http://vocab.getty.edu/page/aat/300250049|http://vocab.getty.edu/page/aat/300025928|http://vocab.getty.edu/page/aat/300123319'\n",
    " - Issues: TMI - don't use"
   ]
  },
  {
   "cell_type": "code",
   "execution_count": null,
   "metadata": {},
   "outputs": [],
   "source": []
  }
 ],
 "metadata": {
  "interpreter": {
   "hash": "7a079a8b34e42b4302efdf93aef8312b0c5bf183bc0e5cca3d056ad812159a4f"
  },
  "kernelspec": {
   "display_name": "Python 3.9.5 64-bit ('3.9.5')",
   "language": "python",
   "name": "python3"
  },
  "language_info": {
   "codemirror_mode": {
    "name": "ipython",
    "version": 3
   },
   "file_extension": ".py",
   "mimetype": "text/x-python",
   "name": "python",
   "nbconvert_exporter": "python",
   "pygments_lexer": "ipython3",
   "version": "3.9.5"
  },
  "orig_nbformat": 4
 },
 "nbformat": 4,
 "nbformat_minor": 2
}
